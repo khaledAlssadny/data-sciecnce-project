{
 "cells": [
  {
   "cell_type": "markdown",
   "metadata": {
    "id": "qj8TZiZ7g7r5"
   },
   "source": [
    "## Gather"
   ]
  },
  {
   "cell_type": "code",
   "execution_count": 105,
   "metadata": {
    "id": "DzX6ZggSg7sR"
   },
   "outputs": [],
   "source": [
    "import pandas as pd\n",
    "import numpy as np\n",
    "import matplotlib.pyplot as plt \n",
    "import seaborn as sns \n",
    "%matplotlib inline\n",
    "%reload_ext autoreload\n",
    "%autoreload 2"
   ]
  },
  {
   "cell_type": "code",
   "execution_count": 106,
   "metadata": {
    "colab": {
     "base_uri": "https://localhost:8080/",
     "height": 444
    },
    "id": "h9j7eDxHg7sW",
    "outputId": "00f20f81-0b97-4ec8-8fa9-a8e810e01ec2"
   },
   "outputs": [
    {
     "data": {
      "text/html": [
       "<div>\n",
       "<style scoped>\n",
       "    .dataframe tbody tr th:only-of-type {\n",
       "        vertical-align: middle;\n",
       "    }\n",
       "\n",
       "    .dataframe tbody tr th {\n",
       "        vertical-align: top;\n",
       "    }\n",
       "\n",
       "    .dataframe thead th {\n",
       "        text-align: right;\n",
       "    }\n",
       "</style>\n",
       "<table border=\"1\" class=\"dataframe\">\n",
       "  <thead>\n",
       "    <tr style=\"text-align: right;\">\n",
       "      <th></th>\n",
       "      <th>enrollee_id</th>\n",
       "      <th>city</th>\n",
       "      <th>city_development_index</th>\n",
       "      <th>gender</th>\n",
       "      <th>relevent_experience</th>\n",
       "      <th>enrolled_university</th>\n",
       "      <th>education_level</th>\n",
       "      <th>major_discipline</th>\n",
       "      <th>experience</th>\n",
       "      <th>company_size</th>\n",
       "      <th>company_type</th>\n",
       "      <th>last_new_job</th>\n",
       "      <th>training_hours</th>\n",
       "      <th>target</th>\n",
       "    </tr>\n",
       "  </thead>\n",
       "  <tbody>\n",
       "    <tr>\n",
       "      <th>0</th>\n",
       "      <td>8949</td>\n",
       "      <td>city_103</td>\n",
       "      <td>0.920</td>\n",
       "      <td>Male</td>\n",
       "      <td>Has relevent experience</td>\n",
       "      <td>no_enrollment</td>\n",
       "      <td>Graduate</td>\n",
       "      <td>STEM</td>\n",
       "      <td>&gt;20</td>\n",
       "      <td>NaN</td>\n",
       "      <td>NaN</td>\n",
       "      <td>1</td>\n",
       "      <td>36</td>\n",
       "      <td>1.0</td>\n",
       "    </tr>\n",
       "    <tr>\n",
       "      <th>1</th>\n",
       "      <td>29725</td>\n",
       "      <td>city_40</td>\n",
       "      <td>0.776</td>\n",
       "      <td>Male</td>\n",
       "      <td>No relevent experience</td>\n",
       "      <td>no_enrollment</td>\n",
       "      <td>Graduate</td>\n",
       "      <td>STEM</td>\n",
       "      <td>15</td>\n",
       "      <td>50-99</td>\n",
       "      <td>Pvt Ltd</td>\n",
       "      <td>&gt;4</td>\n",
       "      <td>47</td>\n",
       "      <td>0.0</td>\n",
       "    </tr>\n",
       "    <tr>\n",
       "      <th>2</th>\n",
       "      <td>11561</td>\n",
       "      <td>city_21</td>\n",
       "      <td>0.624</td>\n",
       "      <td>NaN</td>\n",
       "      <td>No relevent experience</td>\n",
       "      <td>Full time course</td>\n",
       "      <td>Graduate</td>\n",
       "      <td>STEM</td>\n",
       "      <td>5</td>\n",
       "      <td>NaN</td>\n",
       "      <td>NaN</td>\n",
       "      <td>never</td>\n",
       "      <td>83</td>\n",
       "      <td>0.0</td>\n",
       "    </tr>\n",
       "    <tr>\n",
       "      <th>3</th>\n",
       "      <td>33241</td>\n",
       "      <td>city_115</td>\n",
       "      <td>0.789</td>\n",
       "      <td>NaN</td>\n",
       "      <td>No relevent experience</td>\n",
       "      <td>NaN</td>\n",
       "      <td>Graduate</td>\n",
       "      <td>Business Degree</td>\n",
       "      <td>&lt;1</td>\n",
       "      <td>NaN</td>\n",
       "      <td>Pvt Ltd</td>\n",
       "      <td>never</td>\n",
       "      <td>52</td>\n",
       "      <td>1.0</td>\n",
       "    </tr>\n",
       "    <tr>\n",
       "      <th>4</th>\n",
       "      <td>666</td>\n",
       "      <td>city_162</td>\n",
       "      <td>0.767</td>\n",
       "      <td>Male</td>\n",
       "      <td>Has relevent experience</td>\n",
       "      <td>no_enrollment</td>\n",
       "      <td>Masters</td>\n",
       "      <td>STEM</td>\n",
       "      <td>&gt;20</td>\n",
       "      <td>50-99</td>\n",
       "      <td>Funded Startup</td>\n",
       "      <td>4</td>\n",
       "      <td>8</td>\n",
       "      <td>0.0</td>\n",
       "    </tr>\n",
       "    <tr>\n",
       "      <th>...</th>\n",
       "      <td>...</td>\n",
       "      <td>...</td>\n",
       "      <td>...</td>\n",
       "      <td>...</td>\n",
       "      <td>...</td>\n",
       "      <td>...</td>\n",
       "      <td>...</td>\n",
       "      <td>...</td>\n",
       "      <td>...</td>\n",
       "      <td>...</td>\n",
       "      <td>...</td>\n",
       "      <td>...</td>\n",
       "      <td>...</td>\n",
       "      <td>...</td>\n",
       "    </tr>\n",
       "    <tr>\n",
       "      <th>19153</th>\n",
       "      <td>7386</td>\n",
       "      <td>city_173</td>\n",
       "      <td>0.878</td>\n",
       "      <td>Male</td>\n",
       "      <td>No relevent experience</td>\n",
       "      <td>no_enrollment</td>\n",
       "      <td>Graduate</td>\n",
       "      <td>Humanities</td>\n",
       "      <td>14</td>\n",
       "      <td>NaN</td>\n",
       "      <td>NaN</td>\n",
       "      <td>1</td>\n",
       "      <td>42</td>\n",
       "      <td>1.0</td>\n",
       "    </tr>\n",
       "    <tr>\n",
       "      <th>19154</th>\n",
       "      <td>31398</td>\n",
       "      <td>city_103</td>\n",
       "      <td>0.920</td>\n",
       "      <td>Male</td>\n",
       "      <td>Has relevent experience</td>\n",
       "      <td>no_enrollment</td>\n",
       "      <td>Graduate</td>\n",
       "      <td>STEM</td>\n",
       "      <td>14</td>\n",
       "      <td>NaN</td>\n",
       "      <td>NaN</td>\n",
       "      <td>4</td>\n",
       "      <td>52</td>\n",
       "      <td>1.0</td>\n",
       "    </tr>\n",
       "    <tr>\n",
       "      <th>19155</th>\n",
       "      <td>24576</td>\n",
       "      <td>city_103</td>\n",
       "      <td>0.920</td>\n",
       "      <td>Male</td>\n",
       "      <td>Has relevent experience</td>\n",
       "      <td>no_enrollment</td>\n",
       "      <td>Graduate</td>\n",
       "      <td>STEM</td>\n",
       "      <td>&gt;20</td>\n",
       "      <td>50-99</td>\n",
       "      <td>Pvt Ltd</td>\n",
       "      <td>4</td>\n",
       "      <td>44</td>\n",
       "      <td>0.0</td>\n",
       "    </tr>\n",
       "    <tr>\n",
       "      <th>19156</th>\n",
       "      <td>5756</td>\n",
       "      <td>city_65</td>\n",
       "      <td>0.802</td>\n",
       "      <td>Male</td>\n",
       "      <td>Has relevent experience</td>\n",
       "      <td>no_enrollment</td>\n",
       "      <td>High School</td>\n",
       "      <td>NaN</td>\n",
       "      <td>&lt;1</td>\n",
       "      <td>500-999</td>\n",
       "      <td>Pvt Ltd</td>\n",
       "      <td>2</td>\n",
       "      <td>97</td>\n",
       "      <td>0.0</td>\n",
       "    </tr>\n",
       "    <tr>\n",
       "      <th>19157</th>\n",
       "      <td>23834</td>\n",
       "      <td>city_67</td>\n",
       "      <td>0.855</td>\n",
       "      <td>NaN</td>\n",
       "      <td>No relevent experience</td>\n",
       "      <td>no_enrollment</td>\n",
       "      <td>Primary School</td>\n",
       "      <td>NaN</td>\n",
       "      <td>2</td>\n",
       "      <td>NaN</td>\n",
       "      <td>NaN</td>\n",
       "      <td>1</td>\n",
       "      <td>127</td>\n",
       "      <td>0.0</td>\n",
       "    </tr>\n",
       "  </tbody>\n",
       "</table>\n",
       "<p>19158 rows × 14 columns</p>\n",
       "</div>"
      ],
      "text/plain": [
       "       enrollee_id      city  city_development_index gender  \\\n",
       "0             8949  city_103                   0.920   Male   \n",
       "1            29725   city_40                   0.776   Male   \n",
       "2            11561   city_21                   0.624    NaN   \n",
       "3            33241  city_115                   0.789    NaN   \n",
       "4              666  city_162                   0.767   Male   \n",
       "...            ...       ...                     ...    ...   \n",
       "19153         7386  city_173                   0.878   Male   \n",
       "19154        31398  city_103                   0.920   Male   \n",
       "19155        24576  city_103                   0.920   Male   \n",
       "19156         5756   city_65                   0.802   Male   \n",
       "19157        23834   city_67                   0.855    NaN   \n",
       "\n",
       "           relevent_experience enrolled_university education_level  \\\n",
       "0      Has relevent experience       no_enrollment        Graduate   \n",
       "1       No relevent experience       no_enrollment        Graduate   \n",
       "2       No relevent experience    Full time course        Graduate   \n",
       "3       No relevent experience                 NaN        Graduate   \n",
       "4      Has relevent experience       no_enrollment         Masters   \n",
       "...                        ...                 ...             ...   \n",
       "19153   No relevent experience       no_enrollment        Graduate   \n",
       "19154  Has relevent experience       no_enrollment        Graduate   \n",
       "19155  Has relevent experience       no_enrollment        Graduate   \n",
       "19156  Has relevent experience       no_enrollment     High School   \n",
       "19157   No relevent experience       no_enrollment  Primary School   \n",
       "\n",
       "      major_discipline experience company_size    company_type last_new_job  \\\n",
       "0                 STEM        >20          NaN             NaN            1   \n",
       "1                 STEM         15        50-99         Pvt Ltd           >4   \n",
       "2                 STEM          5          NaN             NaN        never   \n",
       "3      Business Degree         <1          NaN         Pvt Ltd        never   \n",
       "4                 STEM        >20        50-99  Funded Startup            4   \n",
       "...                ...        ...          ...             ...          ...   \n",
       "19153       Humanities         14          NaN             NaN            1   \n",
       "19154             STEM         14          NaN             NaN            4   \n",
       "19155             STEM        >20        50-99         Pvt Ltd            4   \n",
       "19156              NaN         <1      500-999         Pvt Ltd            2   \n",
       "19157              NaN          2          NaN             NaN            1   \n",
       "\n",
       "       training_hours  target  \n",
       "0                  36     1.0  \n",
       "1                  47     0.0  \n",
       "2                  83     0.0  \n",
       "3                  52     1.0  \n",
       "4                   8     0.0  \n",
       "...               ...     ...  \n",
       "19153              42     1.0  \n",
       "19154              52     1.0  \n",
       "19155              44     0.0  \n",
       "19156              97     0.0  \n",
       "19157             127     0.0  \n",
       "\n",
       "[19158 rows x 14 columns]"
      ]
     },
     "execution_count": 106,
     "metadata": {},
     "output_type": "execute_result"
    }
   ],
   "source": [
    "test=pd.read_csv('aug_train.csv')\n",
    "test_clean=test.copy()\n",
    "test_clean"
   ]
  },
  {
   "cell_type": "markdown",
   "metadata": {
    "id": "ajDFKEXpg7sb"
   },
   "source": [
    "## Assess"
   ]
  },
  {
   "cell_type": "code",
   "execution_count": 107,
   "metadata": {
    "colab": {
     "base_uri": "https://localhost:8080/"
    },
    "id": "gCb9WHnXg7sd",
    "outputId": "718eb99d-a4df-49ba-dde8-38e5c851847a"
   },
   "outputs": [
    {
     "name": "stdout",
     "output_type": "stream",
     "text": [
      "<class 'pandas.core.frame.DataFrame'>\n",
      "RangeIndex: 19158 entries, 0 to 19157\n",
      "Data columns (total 14 columns):\n",
      " #   Column                  Non-Null Count  Dtype  \n",
      "---  ------                  --------------  -----  \n",
      " 0   enrollee_id             19158 non-null  int64  \n",
      " 1   city                    19158 non-null  object \n",
      " 2   city_development_index  19158 non-null  float64\n",
      " 3   gender                  14650 non-null  object \n",
      " 4   relevent_experience     19158 non-null  object \n",
      " 5   enrolled_university     18772 non-null  object \n",
      " 6   education_level         18698 non-null  object \n",
      " 7   major_discipline        16345 non-null  object \n",
      " 8   experience              19093 non-null  object \n",
      " 9   company_size            13220 non-null  object \n",
      " 10  company_type            13018 non-null  object \n",
      " 11  last_new_job            18735 non-null  object \n",
      " 12  training_hours          19158 non-null  int64  \n",
      " 13  target                  19158 non-null  float64\n",
      "dtypes: float64(2), int64(2), object(10)\n",
      "memory usage: 2.0+ MB\n"
     ]
    }
   ],
   "source": [
    "test_clean.info()"
   ]
  },
  {
   "cell_type": "code",
   "execution_count": 108,
   "metadata": {
    "colab": {
     "base_uri": "https://localhost:8080/",
     "height": 444
    },
    "id": "rF8gRBqLg7sg",
    "outputId": "944f177e-de65-4d94-9410-be6aefd90c74"
   },
   "outputs": [
    {
     "data": {
      "text/html": [
       "<div>\n",
       "<style scoped>\n",
       "    .dataframe tbody tr th:only-of-type {\n",
       "        vertical-align: middle;\n",
       "    }\n",
       "\n",
       "    .dataframe tbody tr th {\n",
       "        vertical-align: top;\n",
       "    }\n",
       "\n",
       "    .dataframe thead th {\n",
       "        text-align: right;\n",
       "    }\n",
       "</style>\n",
       "<table border=\"1\" class=\"dataframe\">\n",
       "  <thead>\n",
       "    <tr style=\"text-align: right;\">\n",
       "      <th></th>\n",
       "      <th>enrollee_id</th>\n",
       "      <th>city</th>\n",
       "      <th>city_development_index</th>\n",
       "      <th>gender</th>\n",
       "      <th>relevent_experience</th>\n",
       "      <th>enrolled_university</th>\n",
       "      <th>education_level</th>\n",
       "      <th>major_discipline</th>\n",
       "      <th>experience</th>\n",
       "      <th>company_size</th>\n",
       "      <th>company_type</th>\n",
       "      <th>last_new_job</th>\n",
       "      <th>training_hours</th>\n",
       "      <th>target</th>\n",
       "    </tr>\n",
       "  </thead>\n",
       "  <tbody>\n",
       "    <tr>\n",
       "      <th>2</th>\n",
       "      <td>11561</td>\n",
       "      <td>city_21</td>\n",
       "      <td>0.624</td>\n",
       "      <td>NaN</td>\n",
       "      <td>No relevent experience</td>\n",
       "      <td>Full time course</td>\n",
       "      <td>Graduate</td>\n",
       "      <td>STEM</td>\n",
       "      <td>5</td>\n",
       "      <td>NaN</td>\n",
       "      <td>NaN</td>\n",
       "      <td>never</td>\n",
       "      <td>83</td>\n",
       "      <td>0.0</td>\n",
       "    </tr>\n",
       "    <tr>\n",
       "      <th>3</th>\n",
       "      <td>33241</td>\n",
       "      <td>city_115</td>\n",
       "      <td>0.789</td>\n",
       "      <td>NaN</td>\n",
       "      <td>No relevent experience</td>\n",
       "      <td>NaN</td>\n",
       "      <td>Graduate</td>\n",
       "      <td>Business Degree</td>\n",
       "      <td>&lt;1</td>\n",
       "      <td>NaN</td>\n",
       "      <td>Pvt Ltd</td>\n",
       "      <td>never</td>\n",
       "      <td>52</td>\n",
       "      <td>1.0</td>\n",
       "    </tr>\n",
       "    <tr>\n",
       "      <th>5</th>\n",
       "      <td>21651</td>\n",
       "      <td>city_176</td>\n",
       "      <td>0.764</td>\n",
       "      <td>NaN</td>\n",
       "      <td>Has relevent experience</td>\n",
       "      <td>Part time course</td>\n",
       "      <td>Graduate</td>\n",
       "      <td>STEM</td>\n",
       "      <td>11</td>\n",
       "      <td>NaN</td>\n",
       "      <td>NaN</td>\n",
       "      <td>1</td>\n",
       "      <td>24</td>\n",
       "      <td>1.0</td>\n",
       "    </tr>\n",
       "    <tr>\n",
       "      <th>9</th>\n",
       "      <td>699</td>\n",
       "      <td>city_103</td>\n",
       "      <td>0.920</td>\n",
       "      <td>NaN</td>\n",
       "      <td>Has relevent experience</td>\n",
       "      <td>no_enrollment</td>\n",
       "      <td>Graduate</td>\n",
       "      <td>STEM</td>\n",
       "      <td>17</td>\n",
       "      <td>10000+</td>\n",
       "      <td>Pvt Ltd</td>\n",
       "      <td>&gt;4</td>\n",
       "      <td>123</td>\n",
       "      <td>0.0</td>\n",
       "    </tr>\n",
       "    <tr>\n",
       "      <th>10</th>\n",
       "      <td>29452</td>\n",
       "      <td>city_21</td>\n",
       "      <td>0.624</td>\n",
       "      <td>NaN</td>\n",
       "      <td>No relevent experience</td>\n",
       "      <td>Full time course</td>\n",
       "      <td>High School</td>\n",
       "      <td>NaN</td>\n",
       "      <td>2</td>\n",
       "      <td>NaN</td>\n",
       "      <td>NaN</td>\n",
       "      <td>never</td>\n",
       "      <td>32</td>\n",
       "      <td>1.0</td>\n",
       "    </tr>\n",
       "    <tr>\n",
       "      <th>...</th>\n",
       "      <td>...</td>\n",
       "      <td>...</td>\n",
       "      <td>...</td>\n",
       "      <td>...</td>\n",
       "      <td>...</td>\n",
       "      <td>...</td>\n",
       "      <td>...</td>\n",
       "      <td>...</td>\n",
       "      <td>...</td>\n",
       "      <td>...</td>\n",
       "      <td>...</td>\n",
       "      <td>...</td>\n",
       "      <td>...</td>\n",
       "      <td>...</td>\n",
       "    </tr>\n",
       "    <tr>\n",
       "      <th>19140</th>\n",
       "      <td>11398</td>\n",
       "      <td>city_103</td>\n",
       "      <td>0.920</td>\n",
       "      <td>NaN</td>\n",
       "      <td>No relevent experience</td>\n",
       "      <td>no_enrollment</td>\n",
       "      <td>Primary School</td>\n",
       "      <td>NaN</td>\n",
       "      <td>2</td>\n",
       "      <td>NaN</td>\n",
       "      <td>NaN</td>\n",
       "      <td>never</td>\n",
       "      <td>15</td>\n",
       "      <td>0.0</td>\n",
       "    </tr>\n",
       "    <tr>\n",
       "      <th>19144</th>\n",
       "      <td>17191</td>\n",
       "      <td>city_21</td>\n",
       "      <td>0.624</td>\n",
       "      <td>NaN</td>\n",
       "      <td>No relevent experience</td>\n",
       "      <td>Full time course</td>\n",
       "      <td>Graduate</td>\n",
       "      <td>STEM</td>\n",
       "      <td>4</td>\n",
       "      <td>NaN</td>\n",
       "      <td>NaN</td>\n",
       "      <td>never</td>\n",
       "      <td>48</td>\n",
       "      <td>1.0</td>\n",
       "    </tr>\n",
       "    <tr>\n",
       "      <th>19145</th>\n",
       "      <td>155</td>\n",
       "      <td>city_44</td>\n",
       "      <td>0.725</td>\n",
       "      <td>NaN</td>\n",
       "      <td>No relevent experience</td>\n",
       "      <td>Full time course</td>\n",
       "      <td>Graduate</td>\n",
       "      <td>STEM</td>\n",
       "      <td>5</td>\n",
       "      <td>NaN</td>\n",
       "      <td>Pvt Ltd</td>\n",
       "      <td>never</td>\n",
       "      <td>190</td>\n",
       "      <td>0.0</td>\n",
       "    </tr>\n",
       "    <tr>\n",
       "      <th>19148</th>\n",
       "      <td>9212</td>\n",
       "      <td>city_21</td>\n",
       "      <td>0.624</td>\n",
       "      <td>NaN</td>\n",
       "      <td>Has relevent experience</td>\n",
       "      <td>no_enrollment</td>\n",
       "      <td>Masters</td>\n",
       "      <td>STEM</td>\n",
       "      <td>3</td>\n",
       "      <td>100-500</td>\n",
       "      <td>Pvt Ltd</td>\n",
       "      <td>3</td>\n",
       "      <td>40</td>\n",
       "      <td>1.0</td>\n",
       "    </tr>\n",
       "    <tr>\n",
       "      <th>19157</th>\n",
       "      <td>23834</td>\n",
       "      <td>city_67</td>\n",
       "      <td>0.855</td>\n",
       "      <td>NaN</td>\n",
       "      <td>No relevent experience</td>\n",
       "      <td>no_enrollment</td>\n",
       "      <td>Primary School</td>\n",
       "      <td>NaN</td>\n",
       "      <td>2</td>\n",
       "      <td>NaN</td>\n",
       "      <td>NaN</td>\n",
       "      <td>1</td>\n",
       "      <td>127</td>\n",
       "      <td>0.0</td>\n",
       "    </tr>\n",
       "  </tbody>\n",
       "</table>\n",
       "<p>4508 rows × 14 columns</p>\n",
       "</div>"
      ],
      "text/plain": [
       "       enrollee_id      city  city_development_index gender  \\\n",
       "2            11561   city_21                   0.624    NaN   \n",
       "3            33241  city_115                   0.789    NaN   \n",
       "5            21651  city_176                   0.764    NaN   \n",
       "9              699  city_103                   0.920    NaN   \n",
       "10           29452   city_21                   0.624    NaN   \n",
       "...            ...       ...                     ...    ...   \n",
       "19140        11398  city_103                   0.920    NaN   \n",
       "19144        17191   city_21                   0.624    NaN   \n",
       "19145          155   city_44                   0.725    NaN   \n",
       "19148         9212   city_21                   0.624    NaN   \n",
       "19157        23834   city_67                   0.855    NaN   \n",
       "\n",
       "           relevent_experience enrolled_university education_level  \\\n",
       "2       No relevent experience    Full time course        Graduate   \n",
       "3       No relevent experience                 NaN        Graduate   \n",
       "5      Has relevent experience    Part time course        Graduate   \n",
       "9      Has relevent experience       no_enrollment        Graduate   \n",
       "10      No relevent experience    Full time course     High School   \n",
       "...                        ...                 ...             ...   \n",
       "19140   No relevent experience       no_enrollment  Primary School   \n",
       "19144   No relevent experience    Full time course        Graduate   \n",
       "19145   No relevent experience    Full time course        Graduate   \n",
       "19148  Has relevent experience       no_enrollment         Masters   \n",
       "19157   No relevent experience       no_enrollment  Primary School   \n",
       "\n",
       "      major_discipline experience company_size company_type last_new_job  \\\n",
       "2                 STEM          5          NaN          NaN        never   \n",
       "3      Business Degree         <1          NaN      Pvt Ltd        never   \n",
       "5                 STEM         11          NaN          NaN            1   \n",
       "9                 STEM         17       10000+      Pvt Ltd           >4   \n",
       "10                 NaN          2          NaN          NaN        never   \n",
       "...                ...        ...          ...          ...          ...   \n",
       "19140              NaN          2          NaN          NaN        never   \n",
       "19144             STEM          4          NaN          NaN        never   \n",
       "19145             STEM          5          NaN      Pvt Ltd        never   \n",
       "19148             STEM          3      100-500      Pvt Ltd            3   \n",
       "19157              NaN          2          NaN          NaN            1   \n",
       "\n",
       "       training_hours  target  \n",
       "2                  83     0.0  \n",
       "3                  52     1.0  \n",
       "5                  24     1.0  \n",
       "9                 123     0.0  \n",
       "10                 32     1.0  \n",
       "...               ...     ...  \n",
       "19140              15     0.0  \n",
       "19144              48     1.0  \n",
       "19145             190     0.0  \n",
       "19148              40     1.0  \n",
       "19157             127     0.0  \n",
       "\n",
       "[4508 rows x 14 columns]"
      ]
     },
     "execution_count": 108,
     "metadata": {},
     "output_type": "execute_result"
    }
   ],
   "source": [
    "test_clean[test_clean.gender.isnull()]"
   ]
  },
  {
   "cell_type": "code",
   "execution_count": 109,
   "metadata": {
    "colab": {
     "base_uri": "https://localhost:8080/"
    },
    "id": "L8WmN3Crg7si",
    "outputId": "89de986f-d476-40e6-9ae6-d2f30453d432"
   },
   "outputs": [
    {
     "data": {
      "text/plain": [
       "65"
      ]
     },
     "execution_count": 109,
     "metadata": {},
     "output_type": "execute_result"
    }
   ],
   "source": [
    "sum(test_clean.experience.isnull())"
   ]
  },
  {
   "cell_type": "code",
   "execution_count": 110,
   "metadata": {
    "colab": {
     "base_uri": "https://localhost:8080/"
    },
    "id": "wGf2_f3bg7sm",
    "outputId": "d62668eb-3005-4f3f-9eab-ba70c703fe90"
   },
   "outputs": [
    {
     "data": {
      "text/plain": [
       "Pvt Ltd                9817\n",
       "Funded Startup         1001\n",
       "Public Sector           955\n",
       "Early Stage Startup     603\n",
       "NGO                     521\n",
       "Other                   121\n",
       "Name: company_type, dtype: int64"
      ]
     },
     "execution_count": 110,
     "metadata": {},
     "output_type": "execute_result"
    }
   ],
   "source": [
    "test_clean.company_type.value_counts()"
   ]
  },
  {
   "cell_type": "code",
   "execution_count": 111,
   "metadata": {
    "colab": {
     "base_uri": "https://localhost:8080/",
     "height": 300
    },
    "id": "4WSZEA84g7so",
    "outputId": "623f6067-2fcc-4266-fd35-4763c5430049"
   },
   "outputs": [
    {
     "data": {
      "text/html": [
       "<div>\n",
       "<style scoped>\n",
       "    .dataframe tbody tr th:only-of-type {\n",
       "        vertical-align: middle;\n",
       "    }\n",
       "\n",
       "    .dataframe tbody tr th {\n",
       "        vertical-align: top;\n",
       "    }\n",
       "\n",
       "    .dataframe thead th {\n",
       "        text-align: right;\n",
       "    }\n",
       "</style>\n",
       "<table border=\"1\" class=\"dataframe\">\n",
       "  <thead>\n",
       "    <tr style=\"text-align: right;\">\n",
       "      <th></th>\n",
       "      <th>enrollee_id</th>\n",
       "      <th>city_development_index</th>\n",
       "      <th>training_hours</th>\n",
       "      <th>target</th>\n",
       "    </tr>\n",
       "  </thead>\n",
       "  <tbody>\n",
       "    <tr>\n",
       "      <th>count</th>\n",
       "      <td>19158.000000</td>\n",
       "      <td>19158.000000</td>\n",
       "      <td>19158.000000</td>\n",
       "      <td>19158.000000</td>\n",
       "    </tr>\n",
       "    <tr>\n",
       "      <th>mean</th>\n",
       "      <td>16875.358179</td>\n",
       "      <td>0.828848</td>\n",
       "      <td>65.366896</td>\n",
       "      <td>0.249348</td>\n",
       "    </tr>\n",
       "    <tr>\n",
       "      <th>std</th>\n",
       "      <td>9616.292592</td>\n",
       "      <td>0.123362</td>\n",
       "      <td>60.058462</td>\n",
       "      <td>0.432647</td>\n",
       "    </tr>\n",
       "    <tr>\n",
       "      <th>min</th>\n",
       "      <td>1.000000</td>\n",
       "      <td>0.448000</td>\n",
       "      <td>1.000000</td>\n",
       "      <td>0.000000</td>\n",
       "    </tr>\n",
       "    <tr>\n",
       "      <th>25%</th>\n",
       "      <td>8554.250000</td>\n",
       "      <td>0.740000</td>\n",
       "      <td>23.000000</td>\n",
       "      <td>0.000000</td>\n",
       "    </tr>\n",
       "    <tr>\n",
       "      <th>50%</th>\n",
       "      <td>16982.500000</td>\n",
       "      <td>0.903000</td>\n",
       "      <td>47.000000</td>\n",
       "      <td>0.000000</td>\n",
       "    </tr>\n",
       "    <tr>\n",
       "      <th>75%</th>\n",
       "      <td>25169.750000</td>\n",
       "      <td>0.920000</td>\n",
       "      <td>88.000000</td>\n",
       "      <td>0.000000</td>\n",
       "    </tr>\n",
       "    <tr>\n",
       "      <th>max</th>\n",
       "      <td>33380.000000</td>\n",
       "      <td>0.949000</td>\n",
       "      <td>336.000000</td>\n",
       "      <td>1.000000</td>\n",
       "    </tr>\n",
       "  </tbody>\n",
       "</table>\n",
       "</div>"
      ],
      "text/plain": [
       "        enrollee_id  city_development_index  training_hours        target\n",
       "count  19158.000000            19158.000000    19158.000000  19158.000000\n",
       "mean   16875.358179                0.828848       65.366896      0.249348\n",
       "std     9616.292592                0.123362       60.058462      0.432647\n",
       "min        1.000000                0.448000        1.000000      0.000000\n",
       "25%     8554.250000                0.740000       23.000000      0.000000\n",
       "50%    16982.500000                0.903000       47.000000      0.000000\n",
       "75%    25169.750000                0.920000       88.000000      0.000000\n",
       "max    33380.000000                0.949000      336.000000      1.000000"
      ]
     },
     "execution_count": 111,
     "metadata": {},
     "output_type": "execute_result"
    }
   ],
   "source": [
    "test_clean.describe()"
   ]
  },
  {
   "cell_type": "code",
   "execution_count": 112,
   "metadata": {
    "colab": {
     "base_uri": "https://localhost:8080/"
    },
    "id": "69F8YFHAg7sp",
    "outputId": "6a0731b5-bb76-43c1-cdb2-739d223333ab"
   },
   "outputs": [
    {
     "data": {
      "text/plain": [
       "17321        1\n",
       "6730         2\n",
       "10024        4\n",
       "15817        5\n",
       "4552         7\n",
       "         ...  \n",
       "17935    33375\n",
       "5009     33376\n",
       "3351     33377\n",
       "4756     33379\n",
       "1663     33380\n",
       "Name: enrollee_id, Length: 19158, dtype: int64"
      ]
     },
     "execution_count": 112,
     "metadata": {},
     "output_type": "execute_result"
    }
   ],
   "source": [
    "test_clean.enrollee_id.sort_values()"
   ]
  },
  {
   "cell_type": "code",
   "execution_count": 113,
   "metadata": {
    "colab": {
     "base_uri": "https://localhost:8080/",
     "height": 69
    },
    "id": "Ou3t5_ZZg7ss",
    "outputId": "07fcddc9-437d-49f8-bd53-a792805246eb"
   },
   "outputs": [
    {
     "data": {
      "text/html": [
       "<div>\n",
       "<style scoped>\n",
       "    .dataframe tbody tr th:only-of-type {\n",
       "        vertical-align: middle;\n",
       "    }\n",
       "\n",
       "    .dataframe tbody tr th {\n",
       "        vertical-align: top;\n",
       "    }\n",
       "\n",
       "    .dataframe thead th {\n",
       "        text-align: right;\n",
       "    }\n",
       "</style>\n",
       "<table border=\"1\" class=\"dataframe\">\n",
       "  <thead>\n",
       "    <tr style=\"text-align: right;\">\n",
       "      <th></th>\n",
       "      <th>enrollee_id</th>\n",
       "      <th>city</th>\n",
       "      <th>city_development_index</th>\n",
       "      <th>gender</th>\n",
       "      <th>relevent_experience</th>\n",
       "      <th>enrolled_university</th>\n",
       "      <th>education_level</th>\n",
       "      <th>major_discipline</th>\n",
       "      <th>experience</th>\n",
       "      <th>company_size</th>\n",
       "      <th>company_type</th>\n",
       "      <th>last_new_job</th>\n",
       "      <th>training_hours</th>\n",
       "      <th>target</th>\n",
       "    </tr>\n",
       "  </thead>\n",
       "  <tbody>\n",
       "  </tbody>\n",
       "</table>\n",
       "</div>"
      ],
      "text/plain": [
       "Empty DataFrame\n",
       "Columns: [enrollee_id, city, city_development_index, gender, relevent_experience, enrolled_university, education_level, major_discipline, experience, company_size, company_type, last_new_job, training_hours, target]\n",
       "Index: []"
      ]
     },
     "execution_count": 113,
     "metadata": {},
     "output_type": "execute_result"
    }
   ],
   "source": [
    "test_clean[test_clean.duplicated()]"
   ]
  },
  {
   "cell_type": "code",
   "execution_count": 114,
   "metadata": {
    "colab": {
     "base_uri": "https://localhost:8080/",
     "height": 338
    },
    "id": "khpJMA6sg7sx",
    "outputId": "5900513e-c917-440d-a444-fe3a1756f28f"
   },
   "outputs": [
    {
     "data": {
      "text/html": [
       "<div>\n",
       "<style scoped>\n",
       "    .dataframe tbody tr th:only-of-type {\n",
       "        vertical-align: middle;\n",
       "    }\n",
       "\n",
       "    .dataframe tbody tr th {\n",
       "        vertical-align: top;\n",
       "    }\n",
       "\n",
       "    .dataframe thead th {\n",
       "        text-align: right;\n",
       "    }\n",
       "</style>\n",
       "<table border=\"1\" class=\"dataframe\">\n",
       "  <thead>\n",
       "    <tr style=\"text-align: right;\">\n",
       "      <th></th>\n",
       "      <th>enrollee_id</th>\n",
       "      <th>city</th>\n",
       "      <th>city_development_index</th>\n",
       "      <th>gender</th>\n",
       "      <th>relevent_experience</th>\n",
       "      <th>enrolled_university</th>\n",
       "      <th>education_level</th>\n",
       "      <th>major_discipline</th>\n",
       "      <th>experience</th>\n",
       "      <th>company_size</th>\n",
       "      <th>company_type</th>\n",
       "      <th>last_new_job</th>\n",
       "      <th>training_hours</th>\n",
       "      <th>target</th>\n",
       "    </tr>\n",
       "  </thead>\n",
       "  <tbody>\n",
       "    <tr>\n",
       "      <th>8241</th>\n",
       "      <td>4254</td>\n",
       "      <td>city_16</td>\n",
       "      <td>0.910</td>\n",
       "      <td>Male</td>\n",
       "      <td>Has relevent experience</td>\n",
       "      <td>no_enrollment</td>\n",
       "      <td>Graduate</td>\n",
       "      <td>STEM</td>\n",
       "      <td>5</td>\n",
       "      <td>50-99</td>\n",
       "      <td>Pvt Ltd</td>\n",
       "      <td>1</td>\n",
       "      <td>25</td>\n",
       "      <td>0.0</td>\n",
       "    </tr>\n",
       "    <tr>\n",
       "      <th>4249</th>\n",
       "      <td>4164</td>\n",
       "      <td>city_103</td>\n",
       "      <td>0.920</td>\n",
       "      <td>Male</td>\n",
       "      <td>Has relevent experience</td>\n",
       "      <td>no_enrollment</td>\n",
       "      <td>Graduate</td>\n",
       "      <td>STEM</td>\n",
       "      <td>17</td>\n",
       "      <td>500-999</td>\n",
       "      <td>Pvt Ltd</td>\n",
       "      <td>&gt;4</td>\n",
       "      <td>100</td>\n",
       "      <td>0.0</td>\n",
       "    </tr>\n",
       "    <tr>\n",
       "      <th>12469</th>\n",
       "      <td>29597</td>\n",
       "      <td>city_21</td>\n",
       "      <td>0.624</td>\n",
       "      <td>Male</td>\n",
       "      <td>Has relevent experience</td>\n",
       "      <td>no_enrollment</td>\n",
       "      <td>Graduate</td>\n",
       "      <td>STEM</td>\n",
       "      <td>&lt;1</td>\n",
       "      <td>50-99</td>\n",
       "      <td>Pvt Ltd</td>\n",
       "      <td>1</td>\n",
       "      <td>55</td>\n",
       "      <td>1.0</td>\n",
       "    </tr>\n",
       "    <tr>\n",
       "      <th>2165</th>\n",
       "      <td>19443</td>\n",
       "      <td>city_46</td>\n",
       "      <td>0.762</td>\n",
       "      <td>NaN</td>\n",
       "      <td>No relevent experience</td>\n",
       "      <td>Full time course</td>\n",
       "      <td>Graduate</td>\n",
       "      <td>STEM</td>\n",
       "      <td>5</td>\n",
       "      <td>NaN</td>\n",
       "      <td>NaN</td>\n",
       "      <td>3</td>\n",
       "      <td>49</td>\n",
       "      <td>0.0</td>\n",
       "    </tr>\n",
       "    <tr>\n",
       "      <th>15651</th>\n",
       "      <td>30137</td>\n",
       "      <td>city_10</td>\n",
       "      <td>0.895</td>\n",
       "      <td>NaN</td>\n",
       "      <td>Has relevent experience</td>\n",
       "      <td>no_enrollment</td>\n",
       "      <td>Graduate</td>\n",
       "      <td>STEM</td>\n",
       "      <td>4</td>\n",
       "      <td>50-99</td>\n",
       "      <td>Pvt Ltd</td>\n",
       "      <td>1</td>\n",
       "      <td>124</td>\n",
       "      <td>0.0</td>\n",
       "    </tr>\n",
       "    <tr>\n",
       "      <th>551</th>\n",
       "      <td>11739</td>\n",
       "      <td>city_114</td>\n",
       "      <td>0.926</td>\n",
       "      <td>Male</td>\n",
       "      <td>Has relevent experience</td>\n",
       "      <td>Part time course</td>\n",
       "      <td>Graduate</td>\n",
       "      <td>STEM</td>\n",
       "      <td>18</td>\n",
       "      <td>100-500</td>\n",
       "      <td>NGO</td>\n",
       "      <td>3</td>\n",
       "      <td>84</td>\n",
       "      <td>0.0</td>\n",
       "    </tr>\n",
       "    <tr>\n",
       "      <th>12733</th>\n",
       "      <td>22374</td>\n",
       "      <td>city_21</td>\n",
       "      <td>0.624</td>\n",
       "      <td>NaN</td>\n",
       "      <td>Has relevent experience</td>\n",
       "      <td>no_enrollment</td>\n",
       "      <td>Masters</td>\n",
       "      <td>STEM</td>\n",
       "      <td>11</td>\n",
       "      <td>1000-4999</td>\n",
       "      <td>Pvt Ltd</td>\n",
       "      <td>2</td>\n",
       "      <td>10</td>\n",
       "      <td>1.0</td>\n",
       "    </tr>\n",
       "    <tr>\n",
       "      <th>6165</th>\n",
       "      <td>19698</td>\n",
       "      <td>city_160</td>\n",
       "      <td>0.920</td>\n",
       "      <td>Male</td>\n",
       "      <td>No relevent experience</td>\n",
       "      <td>no_enrollment</td>\n",
       "      <td>Graduate</td>\n",
       "      <td>STEM</td>\n",
       "      <td>6</td>\n",
       "      <td>10/49</td>\n",
       "      <td>Early Stage Startup</td>\n",
       "      <td>1</td>\n",
       "      <td>34</td>\n",
       "      <td>0.0</td>\n",
       "    </tr>\n",
       "  </tbody>\n",
       "</table>\n",
       "</div>"
      ],
      "text/plain": [
       "       enrollee_id      city  city_development_index gender  \\\n",
       "8241          4254   city_16                   0.910   Male   \n",
       "4249          4164  city_103                   0.920   Male   \n",
       "12469        29597   city_21                   0.624   Male   \n",
       "2165         19443   city_46                   0.762    NaN   \n",
       "15651        30137   city_10                   0.895    NaN   \n",
       "551          11739  city_114                   0.926   Male   \n",
       "12733        22374   city_21                   0.624    NaN   \n",
       "6165         19698  city_160                   0.920   Male   \n",
       "\n",
       "           relevent_experience enrolled_university education_level  \\\n",
       "8241   Has relevent experience       no_enrollment        Graduate   \n",
       "4249   Has relevent experience       no_enrollment        Graduate   \n",
       "12469  Has relevent experience       no_enrollment        Graduate   \n",
       "2165    No relevent experience    Full time course        Graduate   \n",
       "15651  Has relevent experience       no_enrollment        Graduate   \n",
       "551    Has relevent experience    Part time course        Graduate   \n",
       "12733  Has relevent experience       no_enrollment         Masters   \n",
       "6165    No relevent experience       no_enrollment        Graduate   \n",
       "\n",
       "      major_discipline experience company_size         company_type  \\\n",
       "8241              STEM          5        50-99              Pvt Ltd   \n",
       "4249              STEM         17      500-999              Pvt Ltd   \n",
       "12469             STEM         <1        50-99              Pvt Ltd   \n",
       "2165              STEM          5          NaN                  NaN   \n",
       "15651             STEM          4        50-99              Pvt Ltd   \n",
       "551               STEM         18      100-500                  NGO   \n",
       "12733             STEM         11    1000-4999              Pvt Ltd   \n",
       "6165              STEM          6        10/49  Early Stage Startup   \n",
       "\n",
       "      last_new_job  training_hours  target  \n",
       "8241             1              25     0.0  \n",
       "4249            >4             100     0.0  \n",
       "12469            1              55     1.0  \n",
       "2165             3              49     0.0  \n",
       "15651            1             124     0.0  \n",
       "551              3              84     0.0  \n",
       "12733            2              10     1.0  \n",
       "6165             1              34     0.0  "
      ]
     },
     "execution_count": 114,
     "metadata": {},
     "output_type": "execute_result"
    }
   ],
   "source": [
    "test_clean.sample(8)"
   ]
  },
  {
   "cell_type": "markdown",
   "metadata": {
    "id": "_A5FLpeDg7sz"
   },
   "source": [
    "## Clean"
   ]
  },
  {
   "cell_type": "markdown",
   "metadata": {
    "id": "6AVlbBkJg7s2"
   },
   "source": [
    "### Quality"
   ]
  },
  {
   "cell_type": "code",
   "execution_count": 115,
   "metadata": {
    "colab": {
     "base_uri": "https://localhost:8080/"
    },
    "id": "Gle4W0MCg7s3",
    "outputId": "5891a31e-b97a-4571-9a80-7d946a08322b"
   },
   "outputs": [
    {
     "data": {
      "text/plain": [
       "29998    1\n",
       "00838    1\n",
       "10622    1\n",
       "25094    1\n",
       "27890    1\n",
       "        ..\n",
       "03073    1\n",
       "22572    1\n",
       "20122    1\n",
       "02169    1\n",
       "27609    1\n",
       "Name: enrollee_id, Length: 19158, dtype: int64"
      ]
     },
     "execution_count": 115,
     "metadata": {},
     "output_type": "execute_result"
    }
   ],
   "source": [
    "test_clean.enrollee_id=test_clean.enrollee_id.astype(str).str.pad(5,fillchar='0')\n",
    "test_clean.enrollee_id.value_counts()\n"
   ]
  },
  {
   "cell_type": "code",
   "execution_count": 116,
   "metadata": {
    "id": "0SxzSe-Qg7s7"
   },
   "outputs": [],
   "source": [
    "test_clean=test_clean.dropna()"
   ]
  },
  {
   "cell_type": "code",
   "execution_count": 117,
   "metadata": {
    "colab": {
     "base_uri": "https://localhost:8080/"
    },
    "id": "Rx_EFzgfg7s7",
    "outputId": "610936a1-f3fb-42af-faac-2cf50ef82471"
   },
   "outputs": [
    {
     "name": "stdout",
     "output_type": "stream",
     "text": [
      "<class 'pandas.core.frame.DataFrame'>\n",
      "Int64Index: 8955 entries, 1 to 19155\n",
      "Data columns (total 14 columns):\n",
      " #   Column                  Non-Null Count  Dtype  \n",
      "---  ------                  --------------  -----  \n",
      " 0   enrollee_id             8955 non-null   object \n",
      " 1   city                    8955 non-null   object \n",
      " 2   city_development_index  8955 non-null   float64\n",
      " 3   gender                  8955 non-null   object \n",
      " 4   relevent_experience     8955 non-null   object \n",
      " 5   enrolled_university     8955 non-null   object \n",
      " 6   education_level         8955 non-null   object \n",
      " 7   major_discipline        8955 non-null   object \n",
      " 8   experience              8955 non-null   object \n",
      " 9   company_size            8955 non-null   object \n",
      " 10  company_type            8955 non-null   object \n",
      " 11  last_new_job            8955 non-null   object \n",
      " 12  training_hours          8955 non-null   int64  \n",
      " 13  target                  8955 non-null   float64\n",
      "dtypes: float64(2), int64(1), object(11)\n",
      "memory usage: 1.0+ MB\n"
     ]
    }
   ],
   "source": [
    "test_clean.info()"
   ]
  },
  {
   "cell_type": "code",
   "execution_count": 118,
   "metadata": {
    "colab": {
     "base_uri": "https://localhost:8080/"
    },
    "id": "MVDDpKCxg7s9",
    "outputId": "c1804f26-651b-4b69-8a83-ac4bb745c890"
   },
   "outputs": [
    {
     "data": {
      "text/plain": [
       "Male      8073\n",
       "Female     804\n",
       "Other       78\n",
       "Name: gender, dtype: int64"
      ]
     },
     "execution_count": 118,
     "metadata": {},
     "output_type": "execute_result"
    }
   ],
   "source": [
    "test_clean.gender.value_counts()"
   ]
  },
  {
   "cell_type": "code",
   "execution_count": 119,
   "metadata": {
    "colab": {
     "base_uri": "https://localhost:8080/"
    },
    "id": "6jVqHj1Qg7tA",
    "outputId": "3cf3814a-0002-4eb4-c8e4-a2f04e5150f4"
   },
   "outputs": [
    {
     "data": {
      "text/plain": [
       "0"
      ]
     },
     "execution_count": 119,
     "metadata": {},
     "output_type": "execute_result"
    }
   ],
   "source": [
    "sum(test_clean.gender.isnull())"
   ]
  },
  {
   "cell_type": "code",
   "execution_count": 120,
   "metadata": {
    "colab": {
     "base_uri": "https://localhost:8080/"
    },
    "id": "90TKilWwg7tA",
    "outputId": "f43cdd6e-fa49-4351-9bf5-828d5104d67b"
   },
   "outputs": [
    {
     "data": {
      "text/plain": [
       "Male      8073\n",
       "Female     804\n",
       "Name: gender, dtype: int64"
      ]
     },
     "execution_count": 120,
     "metadata": {},
     "output_type": "execute_result"
    }
   ],
   "source": [
    "test_clean=test_clean[test_clean.gender!='Other']\n",
    "test_clean.gender.value_counts()"
   ]
  },
  {
   "cell_type": "code",
   "execution_count": 121,
   "metadata": {
    "id": "jHp8kybeg7tB"
   },
   "outputs": [],
   "source": [
    "test_clean.gender=test_clean.gender.astype('category')"
   ]
  },
  {
   "cell_type": "code",
   "execution_count": 122,
   "metadata": {
    "colab": {
     "base_uri": "https://localhost:8080/"
    },
    "id": "LMUJrCWWg7tC",
    "outputId": "00c9856e-a311-4e8c-b983-37cbed843dbf"
   },
   "outputs": [
    {
     "name": "stdout",
     "output_type": "stream",
     "text": [
      "<class 'pandas.core.frame.DataFrame'>\n",
      "Int64Index: 8877 entries, 1 to 19155\n",
      "Data columns (total 14 columns):\n",
      " #   Column                  Non-Null Count  Dtype   \n",
      "---  ------                  --------------  -----   \n",
      " 0   enrollee_id             8877 non-null   object  \n",
      " 1   city                    8877 non-null   object  \n",
      " 2   city_development_index  8877 non-null   float64 \n",
      " 3   gender                  8877 non-null   category\n",
      " 4   relevent_experience     8877 non-null   object  \n",
      " 5   enrolled_university     8877 non-null   object  \n",
      " 6   education_level         8877 non-null   object  \n",
      " 7   major_discipline        8877 non-null   object  \n",
      " 8   experience              8877 non-null   object  \n",
      " 9   company_size            8877 non-null   object  \n",
      " 10  company_type            8877 non-null   object  \n",
      " 11  last_new_job            8877 non-null   object  \n",
      " 12  training_hours          8877 non-null   int64   \n",
      " 13  target                  8877 non-null   float64 \n",
      "dtypes: category(1), float64(2), int64(1), object(10)\n",
      "memory usage: 979.7+ KB\n"
     ]
    }
   ],
   "source": [
    "test_clean.info()"
   ]
  },
  {
   "cell_type": "code",
   "execution_count": 123,
   "metadata": {
    "colab": {
     "base_uri": "https://localhost:8080/"
    },
    "id": "OgFHWa-gg7tC",
    "outputId": "008f17ed-e14f-4c9e-b6cb-d34dcbff5910"
   },
   "outputs": [
    {
     "data": {
      "text/plain": [
       "Has relevent experience    7798\n",
       "No relevent experience     1079\n",
       "Name: relevent_experience, dtype: int64"
      ]
     },
     "execution_count": 123,
     "metadata": {},
     "output_type": "execute_result"
    }
   ],
   "source": [
    "test_clean.relevent_experience.value_counts()"
   ]
  },
  {
   "cell_type": "code",
   "execution_count": 124,
   "metadata": {
    "id": "MLckkUMYg7tD"
   },
   "outputs": [],
   "source": [
    "test_clean.relevent_experience=test_clean.relevent_experience.astype('category')"
   ]
  },
  {
   "cell_type": "code",
   "execution_count": 125,
   "metadata": {
    "colab": {
     "base_uri": "https://localhost:8080/"
    },
    "id": "R4uxl-5ig7tD",
    "outputId": "d80241f7-930c-48df-9091-dfc6d7fece60"
   },
   "outputs": [
    {
     "name": "stdout",
     "output_type": "stream",
     "text": [
      "<class 'pandas.core.frame.DataFrame'>\n",
      "Int64Index: 8877 entries, 1 to 19155\n",
      "Data columns (total 14 columns):\n",
      " #   Column                  Non-Null Count  Dtype   \n",
      "---  ------                  --------------  -----   \n",
      " 0   enrollee_id             8877 non-null   object  \n",
      " 1   city                    8877 non-null   object  \n",
      " 2   city_development_index  8877 non-null   float64 \n",
      " 3   gender                  8877 non-null   category\n",
      " 4   relevent_experience     8877 non-null   category\n",
      " 5   enrolled_university     8877 non-null   object  \n",
      " 6   education_level         8877 non-null   object  \n",
      " 7   major_discipline        8877 non-null   object  \n",
      " 8   experience              8877 non-null   object  \n",
      " 9   company_size            8877 non-null   object  \n",
      " 10  company_type            8877 non-null   object  \n",
      " 11  last_new_job            8877 non-null   object  \n",
      " 12  training_hours          8877 non-null   int64   \n",
      " 13  target                  8877 non-null   float64 \n",
      "dtypes: category(2), float64(2), int64(1), object(9)\n",
      "memory usage: 919.1+ KB\n"
     ]
    }
   ],
   "source": [
    "test_clean.info()"
   ]
  },
  {
   "cell_type": "code",
   "execution_count": 126,
   "metadata": {
    "colab": {
     "base_uri": "https://localhost:8080/"
    },
    "id": "23CyDhepg7tH",
    "outputId": "98846579-5e8c-48e2-ecae-cc75739a4773"
   },
   "outputs": [
    {
     "data": {
      "text/plain": [
       "no_enrollment       7533\n",
       "Full time course     822\n",
       "Part time course     522\n",
       "Name: enrolled_university, dtype: int64"
      ]
     },
     "execution_count": 126,
     "metadata": {},
     "output_type": "execute_result"
    }
   ],
   "source": [
    "test_clean.enrolled_university.value_counts()"
   ]
  },
  {
   "cell_type": "code",
   "execution_count": 127,
   "metadata": {
    "id": "RWlNl9acg7tI"
   },
   "outputs": [],
   "source": [
    "test_clean.enrolled_university=test_clean.enrolled_university.astype('category')"
   ]
  },
  {
   "cell_type": "code",
   "execution_count": 128,
   "metadata": {
    "colab": {
     "base_uri": "https://localhost:8080/"
    },
    "id": "tY1wgZArg7tJ",
    "outputId": "291e70c6-2e2a-4321-e25a-6308626b2bea"
   },
   "outputs": [
    {
     "name": "stdout",
     "output_type": "stream",
     "text": [
      "<class 'pandas.core.frame.DataFrame'>\n",
      "Int64Index: 8877 entries, 1 to 19155\n",
      "Data columns (total 14 columns):\n",
      " #   Column                  Non-Null Count  Dtype   \n",
      "---  ------                  --------------  -----   \n",
      " 0   enrollee_id             8877 non-null   object  \n",
      " 1   city                    8877 non-null   object  \n",
      " 2   city_development_index  8877 non-null   float64 \n",
      " 3   gender                  8877 non-null   category\n",
      " 4   relevent_experience     8877 non-null   category\n",
      " 5   enrolled_university     8877 non-null   category\n",
      " 6   education_level         8877 non-null   object  \n",
      " 7   major_discipline        8877 non-null   object  \n",
      " 8   experience              8877 non-null   object  \n",
      " 9   company_size            8877 non-null   object  \n",
      " 10  company_type            8877 non-null   object  \n",
      " 11  last_new_job            8877 non-null   object  \n",
      " 12  training_hours          8877 non-null   int64   \n",
      " 13  target                  8877 non-null   float64 \n",
      "dtypes: category(3), float64(2), int64(1), object(8)\n",
      "memory usage: 858.5+ KB\n"
     ]
    }
   ],
   "source": [
    "test_clean.info()"
   ]
  },
  {
   "cell_type": "code",
   "execution_count": 129,
   "metadata": {
    "colab": {
     "base_uri": "https://localhost:8080/"
    },
    "id": "Pjrp7vf7g7tK",
    "outputId": "6a1bfc1f-aacf-4d09-fb98-5d962c120daa"
   },
   "outputs": [
    {
     "data": {
      "text/plain": [
       ">20    1868\n",
       "5       571\n",
       "10      545\n",
       "6       533\n",
       "9       531\n",
       "7       480\n",
       "4       474\n",
       "3       427\n",
       "8       397\n",
       "15      393\n",
       "11      367\n",
       "14      333\n",
       "16      298\n",
       "2       294\n",
       "12      290\n",
       "13      230\n",
       "17      206\n",
       "19      176\n",
       "18      166\n",
       "1       120\n",
       "<1       93\n",
       "20       85\n",
       "Name: experience, dtype: int64"
      ]
     },
     "execution_count": 129,
     "metadata": {},
     "output_type": "execute_result"
    }
   ],
   "source": [
    "test_clean.experience.value_counts()"
   ]
  },
  {
   "cell_type": "code",
   "execution_count": 130,
   "metadata": {
    "id": "mznveN_gg7tL"
   },
   "outputs": [],
   "source": [
    "test_clean.experience=test_clean.experience.replace('<1','0')\n",
    "test_clean.experience=test_clean.experience.replace('>20','21')"
   ]
  },
  {
   "cell_type": "code",
   "execution_count": 131,
   "metadata": {
    "colab": {
     "base_uri": "https://localhost:8080/"
    },
    "id": "t4_w6KFBg7tM",
    "outputId": "16003a22-b576-4c9d-d963-4d5d5779dd2e"
   },
   "outputs": [
    {
     "data": {
      "text/plain": [
       "21    1868\n",
       "5      571\n",
       "10     545\n",
       "6      533\n",
       "9      531\n",
       "7      480\n",
       "4      474\n",
       "3      427\n",
       "8      397\n",
       "15     393\n",
       "11     367\n",
       "14     333\n",
       "16     298\n",
       "2      294\n",
       "12     290\n",
       "13     230\n",
       "17     206\n",
       "19     176\n",
       "18     166\n",
       "1      120\n",
       "0       93\n",
       "20      85\n",
       "Name: experience, dtype: int64"
      ]
     },
     "execution_count": 131,
     "metadata": {},
     "output_type": "execute_result"
    }
   ],
   "source": [
    "test_clean.experience.value_counts()"
   ]
  },
  {
   "cell_type": "code",
   "execution_count": 132,
   "metadata": {
    "colab": {
     "base_uri": "https://localhost:8080/"
    },
    "id": "pdHhNcoog7tN",
    "outputId": "54805091-5537-4369-efa3-72f8f7d80ba0"
   },
   "outputs": [
    {
     "name": "stdout",
     "output_type": "stream",
     "text": [
      "<class 'pandas.core.frame.DataFrame'>\n",
      "Int64Index: 8877 entries, 1 to 19155\n",
      "Data columns (total 14 columns):\n",
      " #   Column                  Non-Null Count  Dtype   \n",
      "---  ------                  --------------  -----   \n",
      " 0   enrollee_id             8877 non-null   object  \n",
      " 1   city                    8877 non-null   object  \n",
      " 2   city_development_index  8877 non-null   float64 \n",
      " 3   gender                  8877 non-null   category\n",
      " 4   relevent_experience     8877 non-null   category\n",
      " 5   enrolled_university     8877 non-null   category\n",
      " 6   education_level         8877 non-null   object  \n",
      " 7   major_discipline        8877 non-null   object  \n",
      " 8   experience              8877 non-null   int32   \n",
      " 9   company_size            8877 non-null   object  \n",
      " 10  company_type            8877 non-null   object  \n",
      " 11  last_new_job            8877 non-null   object  \n",
      " 12  training_hours          8877 non-null   int64   \n",
      " 13  target                  8877 non-null   float64 \n",
      "dtypes: category(3), float64(2), int32(1), int64(1), object(7)\n",
      "memory usage: 823.8+ KB\n"
     ]
    }
   ],
   "source": [
    "test_clean.experience=test_clean.experience.astype(int)\n",
    "test_clean.info()"
   ]
  },
  {
   "cell_type": "code",
   "execution_count": 133,
   "metadata": {
    "colab": {
     "base_uri": "https://localhost:8080/"
    },
    "id": "PbpZRM5cg7tN",
    "outputId": "b32d7aa7-c333-48b8-bf82-652e6a8283ec"
   },
   "outputs": [
    {
     "data": {
      "text/plain": [
       "1        3798\n",
       ">4       1949\n",
       "2        1561\n",
       "3         604\n",
       "4         594\n",
       "never     371\n",
       "Name: last_new_job, dtype: int64"
      ]
     },
     "execution_count": 133,
     "metadata": {},
     "output_type": "execute_result"
    }
   ],
   "source": [
    "test_clean.last_new_job.value_counts()"
   ]
  },
  {
   "cell_type": "code",
   "execution_count": 134,
   "metadata": {
    "colab": {
     "base_uri": "https://localhost:8080/"
    },
    "id": "BeaTLJWZg7tR",
    "outputId": "ffb3ffae-002e-489d-97e9-1483e64a95d7"
   },
   "outputs": [
    {
     "data": {
      "text/plain": [
       "1    3798\n",
       "5    1949\n",
       "2    1561\n",
       "3     604\n",
       "4     594\n",
       "0     371\n",
       "Name: last_new_job, dtype: int64"
      ]
     },
     "execution_count": 134,
     "metadata": {},
     "output_type": "execute_result"
    }
   ],
   "source": [
    "test_clean.last_new_job=test_clean.last_new_job.replace('>4','5')\n",
    "test_clean.last_new_job=test_clean.last_new_job.replace('never','0')\n",
    "test_clean.last_new_job.value_counts()"
   ]
  },
  {
   "cell_type": "code",
   "execution_count": 135,
   "metadata": {
    "id": "ijeTr2iMg7tS"
   },
   "outputs": [],
   "source": [
    "test_clean.last_new_job=test_clean.last_new_job.astype(int)"
   ]
  },
  {
   "cell_type": "code",
   "execution_count": 136,
   "metadata": {
    "colab": {
     "base_uri": "https://localhost:8080/"
    },
    "id": "dqw1Gil-g7tS",
    "outputId": "e7fafc25-1f38-4c80-8ab7-fb96f30958c3"
   },
   "outputs": [
    {
     "name": "stdout",
     "output_type": "stream",
     "text": [
      "<class 'pandas.core.frame.DataFrame'>\n",
      "Int64Index: 8877 entries, 1 to 19155\n",
      "Data columns (total 14 columns):\n",
      " #   Column                  Non-Null Count  Dtype   \n",
      "---  ------                  --------------  -----   \n",
      " 0   enrollee_id             8877 non-null   object  \n",
      " 1   city                    8877 non-null   object  \n",
      " 2   city_development_index  8877 non-null   float64 \n",
      " 3   gender                  8877 non-null   category\n",
      " 4   relevent_experience     8877 non-null   category\n",
      " 5   enrolled_university     8877 non-null   category\n",
      " 6   education_level         8877 non-null   object  \n",
      " 7   major_discipline        8877 non-null   object  \n",
      " 8   experience              8877 non-null   int32   \n",
      " 9   company_size            8877 non-null   object  \n",
      " 10  company_type            8877 non-null   object  \n",
      " 11  last_new_job            8877 non-null   int32   \n",
      " 12  training_hours          8877 non-null   int64   \n",
      " 13  target                  8877 non-null   float64 \n",
      "dtypes: category(3), float64(2), int32(2), int64(1), object(6)\n",
      "memory usage: 789.2+ KB\n"
     ]
    }
   ],
   "source": [
    "test_clean.info()"
   ]
  },
  {
   "cell_type": "code",
   "execution_count": 137,
   "metadata": {
    "colab": {
     "base_uri": "https://localhost:8080/"
    },
    "id": "HuyB9DJFg7tT",
    "outputId": "2f099055-07b8-4b04-8ef6-0918b82946a8"
   },
   "outputs": [
    {
     "data": {
      "text/plain": [
       "Pvt Ltd                6738\n",
       "Funded Startup          775\n",
       "Public Sector           559\n",
       "Early Stage Startup     382\n",
       "NGO                     352\n",
       "Other                    71\n",
       "Name: company_type, dtype: int64"
      ]
     },
     "execution_count": 137,
     "metadata": {},
     "output_type": "execute_result"
    }
   ],
   "source": [
    "test_clean.company_type.value_counts()"
   ]
  },
  {
   "cell_type": "code",
   "execution_count": 138,
   "metadata": {
    "colab": {
     "base_uri": "https://localhost:8080/"
    },
    "id": "mN88nQSqg7tU",
    "outputId": "728b9254-41aa-4a51-be1c-b4ec7525b009"
   },
   "outputs": [
    {
     "data": {
      "text/plain": [
       "private limited company          6738\n",
       "Funded Startup                    775\n",
       "Public Sector                     559\n",
       "Early Stage Startup               382\n",
       "Non-Governmental Organisation     352\n",
       "Other                              71\n",
       "Name: company_type, dtype: int64"
      ]
     },
     "execution_count": 138,
     "metadata": {},
     "output_type": "execute_result"
    }
   ],
   "source": [
    "test_clean.company_type=test_clean.company_type.replace('Pvt Ltd','private limited company')\n",
    "test_clean.company_type=test_clean.company_type.replace('NGO','Non-Governmental Organisation')\n",
    "test_clean.company_type=test_clean.company_type.astype('category')\n",
    "test_clean.company_type.value_counts()"
   ]
  },
  {
   "cell_type": "code",
   "execution_count": 139,
   "metadata": {
    "colab": {
     "base_uri": "https://localhost:8080/"
    },
    "id": "jdqD2rKYg7tX",
    "outputId": "7ee8f2fb-9413-4fec-ab6c-882ee2a75f86"
   },
   "outputs": [
    {
     "data": {
      "text/plain": [
       "50-99        1966\n",
       "100-500      1803\n",
       "10000+       1431\n",
       "10/49         944\n",
       "1000-4999     922\n",
       "<10           832\n",
       "500-999       589\n",
       "5000-9999     390\n",
       "Name: company_size, dtype: int64"
      ]
     },
     "execution_count": 139,
     "metadata": {},
     "output_type": "execute_result"
    }
   ],
   "source": [
    "test_clean.company_size.value_counts()"
   ]
  },
  {
   "cell_type": "code",
   "execution_count": 140,
   "metadata": {
    "colab": {
     "base_uri": "https://localhost:8080/"
    },
    "id": "7MGNro__g7tX",
    "outputId": "9f29d061-b3d0-4bfe-d09a-a7b31c5ed1ea"
   },
   "outputs": [
    {
     "data": {
      "text/plain": [
       "Graduate    6190\n",
       "Masters     2433\n",
       "Phd          254\n",
       "Name: education_level, dtype: int64"
      ]
     },
     "execution_count": 140,
     "metadata": {},
     "output_type": "execute_result"
    }
   ],
   "source": [
    "test_clean.education_level.value_counts()"
   ]
  },
  {
   "cell_type": "code",
   "execution_count": 141,
   "metadata": {
    "id": "aJTD1B2ag7tc"
   },
   "outputs": [],
   "source": [
    "test_clean.education_level=test_clean.education_level.astype('category')"
   ]
  },
  {
   "cell_type": "code",
   "execution_count": 142,
   "metadata": {
    "colab": {
     "base_uri": "https://localhost:8080/"
    },
    "id": "AGFUy4--g7te",
    "outputId": "84436cca-0d78-4ee5-922d-c5767542d6d9"
   },
   "outputs": [
    {
     "data": {
      "text/plain": [
       "STEM               7924\n",
       "Humanities          374\n",
       "Other               175\n",
       "Business Degree     168\n",
       "Arts                126\n",
       "No Major            110\n",
       "Name: major_discipline, dtype: int64"
      ]
     },
     "execution_count": 142,
     "metadata": {},
     "output_type": "execute_result"
    }
   ],
   "source": [
    "test_clean.major_discipline.value_counts()"
   ]
  },
  {
   "cell_type": "code",
   "execution_count": 143,
   "metadata": {
    "id": "C2EhleYng7tf"
   },
   "outputs": [],
   "source": [
    "test_clean.major_discipline=test_clean.major_discipline.astype('category')"
   ]
  },
  {
   "cell_type": "code",
   "execution_count": 144,
   "metadata": {
    "colab": {
     "base_uri": "https://localhost:8080/"
    },
    "id": "UD--zt_Zg7tf",
    "outputId": "33efc00e-b4ee-49e9-c97c-05c9a76c4c3f"
   },
   "outputs": [
    {
     "name": "stdout",
     "output_type": "stream",
     "text": [
      "<class 'pandas.core.frame.DataFrame'>\n",
      "Int64Index: 8877 entries, 1 to 19155\n",
      "Data columns (total 14 columns):\n",
      " #   Column                  Non-Null Count  Dtype   \n",
      "---  ------                  --------------  -----   \n",
      " 0   enrollee_id             8877 non-null   object  \n",
      " 1   city                    8877 non-null   object  \n",
      " 2   city_development_index  8877 non-null   float64 \n",
      " 3   gender                  8877 non-null   category\n",
      " 4   relevent_experience     8877 non-null   category\n",
      " 5   enrolled_university     8877 non-null   category\n",
      " 6   education_level         8877 non-null   category\n",
      " 7   major_discipline        8877 non-null   category\n",
      " 8   experience              8877 non-null   int32   \n",
      " 9   company_size            8877 non-null   object  \n",
      " 10  company_type            8877 non-null   category\n",
      " 11  last_new_job            8877 non-null   int32   \n",
      " 12  training_hours          8877 non-null   int64   \n",
      " 13  target                  8877 non-null   float64 \n",
      "dtypes: category(6), float64(2), int32(2), int64(1), object(3)\n",
      "memory usage: 607.6+ KB\n"
     ]
    }
   ],
   "source": [
    "test_clean.info()"
   ]
  },
  {
   "cell_type": "code",
   "execution_count": 145,
   "metadata": {
    "colab": {
     "base_uri": "https://localhost:8080/"
    },
    "id": "mfIo_-QTg7ti",
    "outputId": "3f7e5b71-fbc8-4922-98fa-2d5748980b17"
   },
   "outputs": [
    {
     "data": {
      "text/plain": [
       "50-99          1966\n",
       "100-500        1803\n",
       "10000-99999    1431\n",
       "10-49           944\n",
       "1000-4999       922\n",
       "1-10            832\n",
       "500-999         589\n",
       "5000-9999       390\n",
       "Name: company_size, dtype: int64"
      ]
     },
     "execution_count": 145,
     "metadata": {},
     "output_type": "execute_result"
    }
   ],
   "source": [
    "test_clean.company_size=test_clean.company_size.replace('10000+','10000-99999')\n",
    "test_clean.company_size=test_clean.company_size.replace('10/49','10-49')\n",
    "test_clean.company_size=test_clean.company_size.replace('<10','1-10')\n",
    "\n",
    "test_clean.company_size.value_counts()"
   ]
  },
  {
   "cell_type": "code",
   "execution_count": 146,
   "metadata": {
    "colab": {
     "base_uri": "https://localhost:8080/"
    },
    "id": "8VrZUpE1g7ti",
    "outputId": "15a12654-4e8a-4444-d0a1-7a47c95dc8fd"
   },
   "outputs": [
    {
     "name": "stdout",
     "output_type": "stream",
     "text": [
      "<class 'pandas.core.frame.DataFrame'>\n",
      "Int64Index: 8877 entries, 1 to 19155\n",
      "Data columns (total 14 columns):\n",
      " #   Column                  Non-Null Count  Dtype   \n",
      "---  ------                  --------------  -----   \n",
      " 0   enrollee_id             8877 non-null   object  \n",
      " 1   city                    8877 non-null   object  \n",
      " 2   city_development_index  8877 non-null   float64 \n",
      " 3   gender                  8877 non-null   category\n",
      " 4   relevent_experience     8877 non-null   category\n",
      " 5   enrolled_university     8877 non-null   category\n",
      " 6   education_level         8877 non-null   category\n",
      " 7   major_discipline        8877 non-null   category\n",
      " 8   experience              8877 non-null   int32   \n",
      " 9   company_size            8877 non-null   object  \n",
      " 10  company_type            8877 non-null   category\n",
      " 11  last_new_job            8877 non-null   int32   \n",
      " 12  training_hours          8877 non-null   int64   \n",
      " 13  target                  8877 non-null   int32   \n",
      "dtypes: category(6), float64(1), int32(3), int64(1), object(3)\n",
      "memory usage: 572.9+ KB\n"
     ]
    }
   ],
   "source": [
    "test_clean.target=test_clean.target.astype(int)\n",
    "test_clean.info()"
   ]
  },
  {
   "cell_type": "markdown",
   "metadata": {
    "id": "7AgZzpGjg7tj"
   },
   "source": [
    "### Tidiness"
   ]
  },
  {
   "cell_type": "code",
   "execution_count": 147,
   "metadata": {
    "colab": {
     "base_uri": "https://localhost:8080/"
    },
    "id": "hs7hZ0-3g7tl",
    "outputId": "8666daab-b393-4a0f-d963-82659695dbb6"
   },
   "outputs": [
    {
     "name": "stderr",
     "output_type": "stream",
     "text": [
      "<ipython-input-147-94144345e165>:1: FutureWarning: Columnar iteration over characters will be deprecated in future releases.\n",
      "  test_clean['company_size_from'],test_clean['company_size_to']=test_clean['company_size'].str.split('-',1).str\n"
     ]
    }
   ],
   "source": [
    "test_clean['company_size_from'],test_clean['company_size_to']=test_clean['company_size'].str.split('-',1).str"
   ]
  },
  {
   "cell_type": "code",
   "execution_count": 148,
   "metadata": {
    "colab": {
     "base_uri": "https://localhost:8080/"
    },
    "id": "bUt6kPJ9g7tn",
    "outputId": "fad147f8-0bb1-40ac-bfab-caa2d0c75dd0",
    "scrolled": true
   },
   "outputs": [
    {
     "name": "stdout",
     "output_type": "stream",
     "text": [
      "<class 'pandas.core.frame.DataFrame'>\n",
      "Int64Index: 8877 entries, 1 to 19155\n",
      "Data columns (total 15 columns):\n",
      " #   Column                  Non-Null Count  Dtype   \n",
      "---  ------                  --------------  -----   \n",
      " 0   enrollee_id             8877 non-null   object  \n",
      " 1   city                    8877 non-null   object  \n",
      " 2   city_development_index  8877 non-null   float64 \n",
      " 3   gender                  8877 non-null   category\n",
      " 4   relevent_experience     8877 non-null   category\n",
      " 5   enrolled_university     8877 non-null   category\n",
      " 6   education_level         8877 non-null   category\n",
      " 7   major_discipline        8877 non-null   category\n",
      " 8   experience              8877 non-null   int32   \n",
      " 9   company_type            8877 non-null   category\n",
      " 10  last_new_job            8877 non-null   int32   \n",
      " 11  training_hours          8877 non-null   int64   \n",
      " 12  target                  8877 non-null   int32   \n",
      " 13  company_size_from       8877 non-null   int32   \n",
      " 14  company_size_to         8877 non-null   int32   \n",
      "dtypes: category(6), float64(1), int32(5), int64(1), object(2)\n",
      "memory usage: 572.9+ KB\n"
     ]
    }
   ],
   "source": [
    "test_clean.company_size_from=test_clean.company_size_from.astype(int)\n",
    "test_clean.company_size_to=test_clean.company_size_to.astype(int)\n",
    "test_clean=test_clean.drop('company_size',axis=1)\n",
    "test_clean.info()"
   ]
  },
  {
   "cell_type": "code",
   "execution_count": 149,
   "metadata": {
    "colab": {
     "base_uri": "https://localhost:8080/",
     "height": 0
    },
    "id": "Bw0EFeaog7tp",
    "outputId": "252ee3f2-13d7-45cb-b7eb-325c98ede552"
   },
   "outputs": [
    {
     "data": {
      "text/html": [
       "<div>\n",
       "<style scoped>\n",
       "    .dataframe tbody tr th:only-of-type {\n",
       "        vertical-align: middle;\n",
       "    }\n",
       "\n",
       "    .dataframe tbody tr th {\n",
       "        vertical-align: top;\n",
       "    }\n",
       "\n",
       "    .dataframe thead th {\n",
       "        text-align: right;\n",
       "    }\n",
       "</style>\n",
       "<table border=\"1\" class=\"dataframe\">\n",
       "  <thead>\n",
       "    <tr style=\"text-align: right;\">\n",
       "      <th></th>\n",
       "      <th>enrollee_id</th>\n",
       "      <th>city</th>\n",
       "      <th>city_development_index</th>\n",
       "      <th>gender</th>\n",
       "      <th>relevent_experience</th>\n",
       "      <th>enrolled_university</th>\n",
       "      <th>education_level</th>\n",
       "      <th>major_discipline</th>\n",
       "      <th>experience</th>\n",
       "      <th>company_type</th>\n",
       "      <th>last_new_job</th>\n",
       "      <th>training_hours</th>\n",
       "      <th>target</th>\n",
       "      <th>company_size_from</th>\n",
       "      <th>company_size_to</th>\n",
       "    </tr>\n",
       "  </thead>\n",
       "  <tbody>\n",
       "    <tr>\n",
       "      <th>1</th>\n",
       "      <td>29725</td>\n",
       "      <td>city_40</td>\n",
       "      <td>0.776</td>\n",
       "      <td>Male</td>\n",
       "      <td>No relevent experience</td>\n",
       "      <td>no_enrollment</td>\n",
       "      <td>Graduate</td>\n",
       "      <td>STEM</td>\n",
       "      <td>15</td>\n",
       "      <td>private limited company</td>\n",
       "      <td>5</td>\n",
       "      <td>47</td>\n",
       "      <td>0</td>\n",
       "      <td>50</td>\n",
       "      <td>99</td>\n",
       "    </tr>\n",
       "    <tr>\n",
       "      <th>4</th>\n",
       "      <td>00666</td>\n",
       "      <td>city_162</td>\n",
       "      <td>0.767</td>\n",
       "      <td>Male</td>\n",
       "      <td>Has relevent experience</td>\n",
       "      <td>no_enrollment</td>\n",
       "      <td>Masters</td>\n",
       "      <td>STEM</td>\n",
       "      <td>21</td>\n",
       "      <td>Funded Startup</td>\n",
       "      <td>4</td>\n",
       "      <td>8</td>\n",
       "      <td>0</td>\n",
       "      <td>50</td>\n",
       "      <td>99</td>\n",
       "    </tr>\n",
       "    <tr>\n",
       "      <th>7</th>\n",
       "      <td>00402</td>\n",
       "      <td>city_46</td>\n",
       "      <td>0.762</td>\n",
       "      <td>Male</td>\n",
       "      <td>Has relevent experience</td>\n",
       "      <td>no_enrollment</td>\n",
       "      <td>Graduate</td>\n",
       "      <td>STEM</td>\n",
       "      <td>13</td>\n",
       "      <td>private limited company</td>\n",
       "      <td>5</td>\n",
       "      <td>18</td>\n",
       "      <td>1</td>\n",
       "      <td>1</td>\n",
       "      <td>10</td>\n",
       "    </tr>\n",
       "    <tr>\n",
       "      <th>8</th>\n",
       "      <td>27107</td>\n",
       "      <td>city_103</td>\n",
       "      <td>0.920</td>\n",
       "      <td>Male</td>\n",
       "      <td>Has relevent experience</td>\n",
       "      <td>no_enrollment</td>\n",
       "      <td>Graduate</td>\n",
       "      <td>STEM</td>\n",
       "      <td>7</td>\n",
       "      <td>private limited company</td>\n",
       "      <td>1</td>\n",
       "      <td>46</td>\n",
       "      <td>1</td>\n",
       "      <td>50</td>\n",
       "      <td>99</td>\n",
       "    </tr>\n",
       "    <tr>\n",
       "      <th>11</th>\n",
       "      <td>23853</td>\n",
       "      <td>city_103</td>\n",
       "      <td>0.920</td>\n",
       "      <td>Male</td>\n",
       "      <td>Has relevent experience</td>\n",
       "      <td>no_enrollment</td>\n",
       "      <td>Graduate</td>\n",
       "      <td>STEM</td>\n",
       "      <td>5</td>\n",
       "      <td>private limited company</td>\n",
       "      <td>1</td>\n",
       "      <td>108</td>\n",
       "      <td>0</td>\n",
       "      <td>5000</td>\n",
       "      <td>9999</td>\n",
       "    </tr>\n",
       "    <tr>\n",
       "      <th>...</th>\n",
       "      <td>...</td>\n",
       "      <td>...</td>\n",
       "      <td>...</td>\n",
       "      <td>...</td>\n",
       "      <td>...</td>\n",
       "      <td>...</td>\n",
       "      <td>...</td>\n",
       "      <td>...</td>\n",
       "      <td>...</td>\n",
       "      <td>...</td>\n",
       "      <td>...</td>\n",
       "      <td>...</td>\n",
       "      <td>...</td>\n",
       "      <td>...</td>\n",
       "      <td>...</td>\n",
       "    </tr>\n",
       "    <tr>\n",
       "      <th>19147</th>\n",
       "      <td>21319</td>\n",
       "      <td>city_21</td>\n",
       "      <td>0.624</td>\n",
       "      <td>Male</td>\n",
       "      <td>No relevent experience</td>\n",
       "      <td>Full time course</td>\n",
       "      <td>Graduate</td>\n",
       "      <td>STEM</td>\n",
       "      <td>1</td>\n",
       "      <td>private limited company</td>\n",
       "      <td>1</td>\n",
       "      <td>52</td>\n",
       "      <td>1</td>\n",
       "      <td>100</td>\n",
       "      <td>500</td>\n",
       "    </tr>\n",
       "    <tr>\n",
       "      <th>19149</th>\n",
       "      <td>00251</td>\n",
       "      <td>city_103</td>\n",
       "      <td>0.920</td>\n",
       "      <td>Male</td>\n",
       "      <td>Has relevent experience</td>\n",
       "      <td>no_enrollment</td>\n",
       "      <td>Masters</td>\n",
       "      <td>STEM</td>\n",
       "      <td>9</td>\n",
       "      <td>private limited company</td>\n",
       "      <td>1</td>\n",
       "      <td>36</td>\n",
       "      <td>1</td>\n",
       "      <td>50</td>\n",
       "      <td>99</td>\n",
       "    </tr>\n",
       "    <tr>\n",
       "      <th>19150</th>\n",
       "      <td>32313</td>\n",
       "      <td>city_160</td>\n",
       "      <td>0.920</td>\n",
       "      <td>Female</td>\n",
       "      <td>Has relevent experience</td>\n",
       "      <td>no_enrollment</td>\n",
       "      <td>Graduate</td>\n",
       "      <td>STEM</td>\n",
       "      <td>10</td>\n",
       "      <td>Public Sector</td>\n",
       "      <td>3</td>\n",
       "      <td>23</td>\n",
       "      <td>0</td>\n",
       "      <td>100</td>\n",
       "      <td>500</td>\n",
       "    </tr>\n",
       "    <tr>\n",
       "      <th>19152</th>\n",
       "      <td>29754</td>\n",
       "      <td>city_103</td>\n",
       "      <td>0.920</td>\n",
       "      <td>Female</td>\n",
       "      <td>Has relevent experience</td>\n",
       "      <td>no_enrollment</td>\n",
       "      <td>Graduate</td>\n",
       "      <td>Humanities</td>\n",
       "      <td>7</td>\n",
       "      <td>Funded Startup</td>\n",
       "      <td>1</td>\n",
       "      <td>25</td>\n",
       "      <td>0</td>\n",
       "      <td>10</td>\n",
       "      <td>49</td>\n",
       "    </tr>\n",
       "    <tr>\n",
       "      <th>19155</th>\n",
       "      <td>24576</td>\n",
       "      <td>city_103</td>\n",
       "      <td>0.920</td>\n",
       "      <td>Male</td>\n",
       "      <td>Has relevent experience</td>\n",
       "      <td>no_enrollment</td>\n",
       "      <td>Graduate</td>\n",
       "      <td>STEM</td>\n",
       "      <td>21</td>\n",
       "      <td>private limited company</td>\n",
       "      <td>4</td>\n",
       "      <td>44</td>\n",
       "      <td>0</td>\n",
       "      <td>50</td>\n",
       "      <td>99</td>\n",
       "    </tr>\n",
       "  </tbody>\n",
       "</table>\n",
       "<p>8877 rows × 15 columns</p>\n",
       "</div>"
      ],
      "text/plain": [
       "      enrollee_id      city  city_development_index  gender  \\\n",
       "1           29725   city_40                   0.776    Male   \n",
       "4           00666  city_162                   0.767    Male   \n",
       "7           00402   city_46                   0.762    Male   \n",
       "8           27107  city_103                   0.920    Male   \n",
       "11          23853  city_103                   0.920    Male   \n",
       "...           ...       ...                     ...     ...   \n",
       "19147       21319   city_21                   0.624    Male   \n",
       "19149       00251  city_103                   0.920    Male   \n",
       "19150       32313  city_160                   0.920  Female   \n",
       "19152       29754  city_103                   0.920  Female   \n",
       "19155       24576  city_103                   0.920    Male   \n",
       "\n",
       "           relevent_experience enrolled_university education_level  \\\n",
       "1       No relevent experience       no_enrollment        Graduate   \n",
       "4      Has relevent experience       no_enrollment         Masters   \n",
       "7      Has relevent experience       no_enrollment        Graduate   \n",
       "8      Has relevent experience       no_enrollment        Graduate   \n",
       "11     Has relevent experience       no_enrollment        Graduate   \n",
       "...                        ...                 ...             ...   \n",
       "19147   No relevent experience    Full time course        Graduate   \n",
       "19149  Has relevent experience       no_enrollment         Masters   \n",
       "19150  Has relevent experience       no_enrollment        Graduate   \n",
       "19152  Has relevent experience       no_enrollment        Graduate   \n",
       "19155  Has relevent experience       no_enrollment        Graduate   \n",
       "\n",
       "      major_discipline  experience             company_type  last_new_job  \\\n",
       "1                 STEM          15  private limited company             5   \n",
       "4                 STEM          21           Funded Startup             4   \n",
       "7                 STEM          13  private limited company             5   \n",
       "8                 STEM           7  private limited company             1   \n",
       "11                STEM           5  private limited company             1   \n",
       "...                ...         ...                      ...           ...   \n",
       "19147             STEM           1  private limited company             1   \n",
       "19149             STEM           9  private limited company             1   \n",
       "19150             STEM          10            Public Sector             3   \n",
       "19152       Humanities           7           Funded Startup             1   \n",
       "19155             STEM          21  private limited company             4   \n",
       "\n",
       "       training_hours  target  company_size_from  company_size_to  \n",
       "1                  47       0                 50               99  \n",
       "4                   8       0                 50               99  \n",
       "7                  18       1                  1               10  \n",
       "8                  46       1                 50               99  \n",
       "11                108       0               5000             9999  \n",
       "...               ...     ...                ...              ...  \n",
       "19147              52       1                100              500  \n",
       "19149              36       1                 50               99  \n",
       "19150              23       0                100              500  \n",
       "19152              25       0                 10               49  \n",
       "19155              44       0                 50               99  \n",
       "\n",
       "[8877 rows x 15 columns]"
      ]
     },
     "execution_count": 149,
     "metadata": {},
     "output_type": "execute_result"
    }
   ],
   "source": [
    "test_clean"
   ]
  },
  {
   "cell_type": "code",
   "execution_count": 150,
   "metadata": {
    "id": "JNhllzB4g7tr"
   },
   "outputs": [],
   "source": [
    "df = pd.DataFrame(test_clean) \n",
    "  \n",
    "# saving the dataframe \n",
    "df.to_csv(r'D:\\final.csv', index=False)"
   ]
  },
  {
   "cell_type": "code",
   "execution_count": 151,
   "metadata": {
    "colab": {
     "base_uri": "https://localhost:8080/"
    },
    "id": "sJDpI3wKg7tr",
    "outputId": "76cf3f36-c9a0-4d6b-940e-e01006ffa5ca"
   },
   "outputs": [
    {
     "name": "stdout",
     "output_type": "stream",
     "text": [
      "<class 'pandas.core.frame.DataFrame'>\n",
      "Int64Index: 8877 entries, 1 to 19155\n",
      "Data columns (total 15 columns):\n",
      " #   Column                  Non-Null Count  Dtype   \n",
      "---  ------                  --------------  -----   \n",
      " 0   enrollee_id             8877 non-null   object  \n",
      " 1   city                    8877 non-null   object  \n",
      " 2   city_development_index  8877 non-null   float64 \n",
      " 3   gender                  8877 non-null   category\n",
      " 4   relevent_experience     8877 non-null   category\n",
      " 5   enrolled_university     8877 non-null   category\n",
      " 6   education_level         8877 non-null   category\n",
      " 7   major_discipline        8877 non-null   category\n",
      " 8   experience              8877 non-null   int32   \n",
      " 9   company_type            8877 non-null   category\n",
      " 10  last_new_job            8877 non-null   int32   \n",
      " 11  training_hours          8877 non-null   int64   \n",
      " 12  target                  8877 non-null   int32   \n",
      " 13  company_size_from       8877 non-null   int32   \n",
      " 14  company_size_to         8877 non-null   int32   \n",
      "dtypes: category(6), float64(1), int32(5), int64(1), object(2)\n",
      "memory usage: 572.9+ KB\n"
     ]
    }
   ],
   "source": [
    "test_clean.info()"
   ]
  },
  {
   "cell_type": "markdown",
   "metadata": {
    "id": "jSWoSfWzg7tt"
   },
   "source": [
    "# visualization\n"
   ]
  },
  {
   "cell_type": "code",
   "execution_count": 152,
   "metadata": {
    "colab": {
     "base_uri": "https://localhost:8080/",
     "height": 565
    },
    "id": "XHuY4M1bg7tv",
    "outputId": "8c04e141-8d32-443c-bdc2-6c2e08a0b605"
   },
   "outputs": [
    {
     "data": {
      "text/html": [
       "<div>\n",
       "<style scoped>\n",
       "    .dataframe tbody tr th:only-of-type {\n",
       "        vertical-align: middle;\n",
       "    }\n",
       "\n",
       "    .dataframe tbody tr th {\n",
       "        vertical-align: top;\n",
       "    }\n",
       "\n",
       "    .dataframe thead th {\n",
       "        text-align: right;\n",
       "    }\n",
       "</style>\n",
       "<table border=\"1\" class=\"dataframe\">\n",
       "  <thead>\n",
       "    <tr style=\"text-align: right;\">\n",
       "      <th></th>\n",
       "      <th>enrollee_id</th>\n",
       "      <th>city</th>\n",
       "      <th>city_development_index</th>\n",
       "      <th>gender</th>\n",
       "      <th>relevent_experience</th>\n",
       "      <th>enrolled_university</th>\n",
       "      <th>education_level</th>\n",
       "      <th>major_discipline</th>\n",
       "      <th>experience</th>\n",
       "      <th>company_type</th>\n",
       "      <th>last_new_job</th>\n",
       "      <th>training_hours</th>\n",
       "      <th>target</th>\n",
       "      <th>company_size_from</th>\n",
       "      <th>company_size_to</th>\n",
       "    </tr>\n",
       "  </thead>\n",
       "  <tbody>\n",
       "    <tr>\n",
       "      <th>0</th>\n",
       "      <td>29725</td>\n",
       "      <td>city_40</td>\n",
       "      <td>0.776</td>\n",
       "      <td>Male</td>\n",
       "      <td>No relevent experience</td>\n",
       "      <td>no_enrollment</td>\n",
       "      <td>Graduate</td>\n",
       "      <td>STEM</td>\n",
       "      <td>15</td>\n",
       "      <td>private limited company</td>\n",
       "      <td>5</td>\n",
       "      <td>47</td>\n",
       "      <td>0</td>\n",
       "      <td>50</td>\n",
       "      <td>99</td>\n",
       "    </tr>\n",
       "    <tr>\n",
       "      <th>1</th>\n",
       "      <td>00666</td>\n",
       "      <td>city_162</td>\n",
       "      <td>0.767</td>\n",
       "      <td>Male</td>\n",
       "      <td>Has relevent experience</td>\n",
       "      <td>no_enrollment</td>\n",
       "      <td>Masters</td>\n",
       "      <td>STEM</td>\n",
       "      <td>21</td>\n",
       "      <td>Funded Startup</td>\n",
       "      <td>4</td>\n",
       "      <td>8</td>\n",
       "      <td>0</td>\n",
       "      <td>50</td>\n",
       "      <td>99</td>\n",
       "    </tr>\n",
       "    <tr>\n",
       "      <th>2</th>\n",
       "      <td>00402</td>\n",
       "      <td>city_46</td>\n",
       "      <td>0.762</td>\n",
       "      <td>Male</td>\n",
       "      <td>Has relevent experience</td>\n",
       "      <td>no_enrollment</td>\n",
       "      <td>Graduate</td>\n",
       "      <td>STEM</td>\n",
       "      <td>13</td>\n",
       "      <td>private limited company</td>\n",
       "      <td>5</td>\n",
       "      <td>18</td>\n",
       "      <td>1</td>\n",
       "      <td>1</td>\n",
       "      <td>10</td>\n",
       "    </tr>\n",
       "    <tr>\n",
       "      <th>3</th>\n",
       "      <td>27107</td>\n",
       "      <td>city_103</td>\n",
       "      <td>0.920</td>\n",
       "      <td>Male</td>\n",
       "      <td>Has relevent experience</td>\n",
       "      <td>no_enrollment</td>\n",
       "      <td>Graduate</td>\n",
       "      <td>STEM</td>\n",
       "      <td>7</td>\n",
       "      <td>private limited company</td>\n",
       "      <td>1</td>\n",
       "      <td>46</td>\n",
       "      <td>1</td>\n",
       "      <td>50</td>\n",
       "      <td>99</td>\n",
       "    </tr>\n",
       "    <tr>\n",
       "      <th>4</th>\n",
       "      <td>23853</td>\n",
       "      <td>city_103</td>\n",
       "      <td>0.920</td>\n",
       "      <td>Male</td>\n",
       "      <td>Has relevent experience</td>\n",
       "      <td>no_enrollment</td>\n",
       "      <td>Graduate</td>\n",
       "      <td>STEM</td>\n",
       "      <td>5</td>\n",
       "      <td>private limited company</td>\n",
       "      <td>1</td>\n",
       "      <td>108</td>\n",
       "      <td>0</td>\n",
       "      <td>5000</td>\n",
       "      <td>9999</td>\n",
       "    </tr>\n",
       "    <tr>\n",
       "      <th>...</th>\n",
       "      <td>...</td>\n",
       "      <td>...</td>\n",
       "      <td>...</td>\n",
       "      <td>...</td>\n",
       "      <td>...</td>\n",
       "      <td>...</td>\n",
       "      <td>...</td>\n",
       "      <td>...</td>\n",
       "      <td>...</td>\n",
       "      <td>...</td>\n",
       "      <td>...</td>\n",
       "      <td>...</td>\n",
       "      <td>...</td>\n",
       "      <td>...</td>\n",
       "      <td>...</td>\n",
       "    </tr>\n",
       "    <tr>\n",
       "      <th>8872</th>\n",
       "      <td>21319</td>\n",
       "      <td>city_21</td>\n",
       "      <td>0.624</td>\n",
       "      <td>Male</td>\n",
       "      <td>No relevent experience</td>\n",
       "      <td>Full time course</td>\n",
       "      <td>Graduate</td>\n",
       "      <td>STEM</td>\n",
       "      <td>1</td>\n",
       "      <td>private limited company</td>\n",
       "      <td>1</td>\n",
       "      <td>52</td>\n",
       "      <td>1</td>\n",
       "      <td>100</td>\n",
       "      <td>500</td>\n",
       "    </tr>\n",
       "    <tr>\n",
       "      <th>8873</th>\n",
       "      <td>00251</td>\n",
       "      <td>city_103</td>\n",
       "      <td>0.920</td>\n",
       "      <td>Male</td>\n",
       "      <td>Has relevent experience</td>\n",
       "      <td>no_enrollment</td>\n",
       "      <td>Masters</td>\n",
       "      <td>STEM</td>\n",
       "      <td>9</td>\n",
       "      <td>private limited company</td>\n",
       "      <td>1</td>\n",
       "      <td>36</td>\n",
       "      <td>1</td>\n",
       "      <td>50</td>\n",
       "      <td>99</td>\n",
       "    </tr>\n",
       "    <tr>\n",
       "      <th>8874</th>\n",
       "      <td>32313</td>\n",
       "      <td>city_160</td>\n",
       "      <td>0.920</td>\n",
       "      <td>Female</td>\n",
       "      <td>Has relevent experience</td>\n",
       "      <td>no_enrollment</td>\n",
       "      <td>Graduate</td>\n",
       "      <td>STEM</td>\n",
       "      <td>10</td>\n",
       "      <td>Public Sector</td>\n",
       "      <td>3</td>\n",
       "      <td>23</td>\n",
       "      <td>0</td>\n",
       "      <td>100</td>\n",
       "      <td>500</td>\n",
       "    </tr>\n",
       "    <tr>\n",
       "      <th>8875</th>\n",
       "      <td>29754</td>\n",
       "      <td>city_103</td>\n",
       "      <td>0.920</td>\n",
       "      <td>Female</td>\n",
       "      <td>Has relevent experience</td>\n",
       "      <td>no_enrollment</td>\n",
       "      <td>Graduate</td>\n",
       "      <td>Humanities</td>\n",
       "      <td>7</td>\n",
       "      <td>Funded Startup</td>\n",
       "      <td>1</td>\n",
       "      <td>25</td>\n",
       "      <td>0</td>\n",
       "      <td>10</td>\n",
       "      <td>49</td>\n",
       "    </tr>\n",
       "    <tr>\n",
       "      <th>8876</th>\n",
       "      <td>24576</td>\n",
       "      <td>city_103</td>\n",
       "      <td>0.920</td>\n",
       "      <td>Male</td>\n",
       "      <td>Has relevent experience</td>\n",
       "      <td>no_enrollment</td>\n",
       "      <td>Graduate</td>\n",
       "      <td>STEM</td>\n",
       "      <td>21</td>\n",
       "      <td>private limited company</td>\n",
       "      <td>4</td>\n",
       "      <td>44</td>\n",
       "      <td>0</td>\n",
       "      <td>50</td>\n",
       "      <td>99</td>\n",
       "    </tr>\n",
       "  </tbody>\n",
       "</table>\n",
       "<p>8877 rows × 15 columns</p>\n",
       "</div>"
      ],
      "text/plain": [
       "     enrollee_id      city  city_development_index  gender  \\\n",
       "0          29725   city_40                   0.776    Male   \n",
       "1          00666  city_162                   0.767    Male   \n",
       "2          00402   city_46                   0.762    Male   \n",
       "3          27107  city_103                   0.920    Male   \n",
       "4          23853  city_103                   0.920    Male   \n",
       "...          ...       ...                     ...     ...   \n",
       "8872       21319   city_21                   0.624    Male   \n",
       "8873       00251  city_103                   0.920    Male   \n",
       "8874       32313  city_160                   0.920  Female   \n",
       "8875       29754  city_103                   0.920  Female   \n",
       "8876       24576  city_103                   0.920    Male   \n",
       "\n",
       "          relevent_experience enrolled_university education_level  \\\n",
       "0      No relevent experience       no_enrollment        Graduate   \n",
       "1     Has relevent experience       no_enrollment         Masters   \n",
       "2     Has relevent experience       no_enrollment        Graduate   \n",
       "3     Has relevent experience       no_enrollment        Graduate   \n",
       "4     Has relevent experience       no_enrollment        Graduate   \n",
       "...                       ...                 ...             ...   \n",
       "8872   No relevent experience    Full time course        Graduate   \n",
       "8873  Has relevent experience       no_enrollment         Masters   \n",
       "8874  Has relevent experience       no_enrollment        Graduate   \n",
       "8875  Has relevent experience       no_enrollment        Graduate   \n",
       "8876  Has relevent experience       no_enrollment        Graduate   \n",
       "\n",
       "     major_discipline  experience             company_type  last_new_job  \\\n",
       "0                STEM          15  private limited company             5   \n",
       "1                STEM          21           Funded Startup             4   \n",
       "2                STEM          13  private limited company             5   \n",
       "3                STEM           7  private limited company             1   \n",
       "4                STEM           5  private limited company             1   \n",
       "...               ...         ...                      ...           ...   \n",
       "8872             STEM           1  private limited company             1   \n",
       "8873             STEM           9  private limited company             1   \n",
       "8874             STEM          10            Public Sector             3   \n",
       "8875       Humanities           7           Funded Startup             1   \n",
       "8876             STEM          21  private limited company             4   \n",
       "\n",
       "      training_hours  target  company_size_from  company_size_to  \n",
       "0                 47       0                 50               99  \n",
       "1                  8       0                 50               99  \n",
       "2                 18       1                  1               10  \n",
       "3                 46       1                 50               99  \n",
       "4                108       0               5000             9999  \n",
       "...              ...     ...                ...              ...  \n",
       "8872              52       1                100              500  \n",
       "8873              36       1                 50               99  \n",
       "8874              23       0                100              500  \n",
       "8875              25       0                 10               49  \n",
       "8876              44       0                 50               99  \n",
       "\n",
       "[8877 rows x 15 columns]"
      ]
     },
     "execution_count": 152,
     "metadata": {},
     "output_type": "execute_result"
    }
   ],
   "source": [
    "file = pd.read_csv('final.csv');\n",
    "file.enrollee_id=file.enrollee_id.astype(str).str.pad(5,fillchar='0')\n",
    "\n",
    "file\n"
   ]
  },
  {
   "cell_type": "code",
   "execution_count": 153,
   "metadata": {
    "colab": {
     "base_uri": "https://localhost:8080/"
    },
    "id": "InNMYZMJg7tw",
    "outputId": "ccfb464d-38c9-4978-e27f-1da64c561ef6"
   },
   "outputs": [
    {
     "data": {
      "text/plain": [
       "29998    1\n",
       "25929    1\n",
       "14283    1\n",
       "06042    1\n",
       "06870    1\n",
       "        ..\n",
       "16842    1\n",
       "05131    1\n",
       "26336    1\n",
       "10178    1\n",
       "11027    1\n",
       "Name: enrollee_id, Length: 8877, dtype: int64"
      ]
     },
     "execution_count": 153,
     "metadata": {},
     "output_type": "execute_result"
    }
   ],
   "source": [
    "file.enrollee_id.value_counts()\n"
   ]
  },
  {
   "cell_type": "code",
   "execution_count": 154,
   "metadata": {
    "colab": {
     "base_uri": "https://localhost:8080/"
    },
    "id": "dGB9UJ9ag7tx",
    "outputId": "b1872085-c132-48b3-93cd-7edf20770d9a"
   },
   "outputs": [
    {
     "name": "stdout",
     "output_type": "stream",
     "text": [
      "<class 'pandas.core.frame.DataFrame'>\n",
      "RangeIndex: 8877 entries, 0 to 8876\n",
      "Data columns (total 15 columns):\n",
      " #   Column                  Non-Null Count  Dtype  \n",
      "---  ------                  --------------  -----  \n",
      " 0   enrollee_id             8877 non-null   object \n",
      " 1   city                    8877 non-null   object \n",
      " 2   city_development_index  8877 non-null   float64\n",
      " 3   gender                  8877 non-null   object \n",
      " 4   relevent_experience     8877 non-null   object \n",
      " 5   enrolled_university     8877 non-null   object \n",
      " 6   education_level         8877 non-null   object \n",
      " 7   major_discipline        8877 non-null   object \n",
      " 8   experience              8877 non-null   int64  \n",
      " 9   company_type            8877 non-null   object \n",
      " 10  last_new_job            8877 non-null   int64  \n",
      " 11  training_hours          8877 non-null   int64  \n",
      " 12  target                  8877 non-null   int64  \n",
      " 13  company_size_from       8877 non-null   int64  \n",
      " 14  company_size_to         8877 non-null   int64  \n",
      "dtypes: float64(1), int64(6), object(8)\n",
      "memory usage: 1.0+ MB\n"
     ]
    }
   ],
   "source": [
    "file.info()"
   ]
  },
  {
   "cell_type": "markdown",
   "metadata": {
    "id": "KMeVlCg0g7uc"
   },
   "source": [
    "## City development index analysis"
   ]
  },
  {
   "cell_type": "markdown",
   "metadata": {
    "id": "IqTUd_FYg7ud"
   },
   "source": [
    "- The mean value of city development is 0.83  \n",
    "- The median is 0.91 and \n",
    "- The standard deviation equals 0.11  \n",
    "- The first half of the values are less than 0.91 and the second half is more than 0.91.\n",
    "- Looking at the standard deviation we can see, that the values do not differ from the average of \n",
    "  values.It means that most of the candidates are from well-developed cities.\n",
    "- Most of the candidates come from the city_103. Next are city_21, city_16, city_114, city_160.\n"
   ]
  },
  {
   "cell_type": "code",
   "execution_count": 155,
   "metadata": {
    "colab": {
     "base_uri": "https://localhost:8080/"
    },
    "id": "Ebh3oSvIg7ue",
    "outputId": "6b9a1429-4743-4cdb-f5bd-99c52f45105f"
   },
   "outputs": [
    {
     "name": "stdout",
     "output_type": "stream",
     "text": [
      "city_dev_Mean: 0.8441975892757027\n",
      "city_dev_Median: 0.91\n",
      "city_dev_Standard deviation: 0.11639971276054528\n"
     ]
    }
   ],
   "source": [
    "city_dev_index = file['city_development_index'].sort_values()\n",
    "city_dev_index.head()\n",
    "print(\"city_dev_Mean:\", city_dev_index.mean())\n",
    "print(\"city_dev_Median:\", city_dev_index.median())\n",
    "print(\"city_dev_Standard deviation:\", city_dev_index.std())\n"
   ]
  },
  {
   "cell_type": "code",
   "execution_count": 156,
   "metadata": {
    "colab": {
     "base_uri": "https://localhost:8080/",
     "height": 0
    },
    "id": "6CynXIWXg7uf",
    "outputId": "bed3db99-4b77-487c-f8fa-ed863a13a439"
   },
   "outputs": [
    {
     "data": {
      "text/plain": [
       "<matplotlib.axes._subplots.AxesSubplot at 0x1813c7e89d0>"
      ]
     },
     "execution_count": 156,
     "metadata": {},
     "output_type": "execute_result"
    },
    {
     "data": {
      "image/png": "[encoded data removed]",
      "text/plain": [
       "<Figure size 432x288 with 1 Axes>"
      ]
     },
     "metadata": {
      "needs_background": "light"
     },
     "output_type": "display_data"
    }
   ],
   "source": [
    "file['city'].value_counts().head(5).plot(kind='barh')\n"
   ]
  },
  {
   "cell_type": "markdown",
   "metadata": {
    "id": "n2qVYQahg7ug"
   },
   "source": [
    "## Gender analysis"
   ]
  },
  {
   "cell_type": "markdown",
   "metadata": {
    "id": "l5T9W11-g7uh"
   },
   "source": [
    "\n",
    "- We can see a big difference between the genders. In candidates, list prevails men.\n",
    "- There are 8073 men and 804 women .\n"
   ]
  },
  {
   "cell_type": "code",
   "execution_count": 157,
   "metadata": {
    "colab": {
     "base_uri": "https://localhost:8080/",
     "height": 0
    },
    "id": "tqRIJM8Ng7uh",
    "outputId": "15615198-dc96-42f7-ac78-3d7bbb7b27c3"
   },
   "outputs": [
    {
     "name": "stdout",
     "output_type": "stream",
     "text": [
      "Male      8073\n",
      "Female     804\n",
      "Name: gender, dtype: int64\n"
     ]
    },
    {
     "data": {
      "text/plain": [
       "<matplotlib.axes._subplots.AxesSubplot at 0x1813c80c730>"
      ]
     },
     "execution_count": 157,
     "metadata": {},
     "output_type": "execute_result"
    },
    {
     "data": {
      "image/png": "[encoded data removed]",
      "text/plain": [
       "<Figure size 432x288 with 1 Axes>"
      ]
     },
     "metadata": {
      "needs_background": "light"
     },
     "output_type": "display_data"
    }
   ],
   "source": [
    "print(file['gender'].value_counts())\n",
    "# file['gender'].value_counts().plot(kind='barh')\n",
    "file.gender.value_counts().plot(kind='barh')\n"
   ]
  },
  {
   "cell_type": "markdown",
   "metadata": {
    "id": "1nqoQVXOg7ui"
   },
   "source": [
    "## Relevant experience analysis"
   ]
  },
  {
   "cell_type": "markdown",
   "metadata": {
    "id": "Za5aFrMvg7uj"
   },
   "source": [
    "- Around 7798 people have relevant experience and 1079 hasn't it. Based on genders, people mostly have a relevant experience.\n",
    "- In the male group, 11.5% of men haven't got relevant experience. The group of women fared worse. In this group, 17.9% of women haven't got relevant experience."
   ]
  },
  {
   "cell_type": "code",
   "execution_count": 158,
   "metadata": {
    "colab": {
     "base_uri": "https://localhost:8080/"
    },
    "id": "9pTEMukqg7uj",
    "outputId": "11d80e3d-7c46-4192-c73b-6646ecfa3962"
   },
   "outputs": [
    {
     "data": {
      "text/plain": [
       "Has relevent experience    7798\n",
       "No relevent experience     1079\n",
       "Name: relevent_experience, dtype: int64"
      ]
     },
     "execution_count": 158,
     "metadata": {},
     "output_type": "execute_result"
    }
   ],
   "source": [
    "file.relevent_experience.value_counts()\n"
   ]
  },
  {
   "cell_type": "code",
   "execution_count": 159,
   "metadata": {
    "colab": {
     "base_uri": "https://localhost:8080/",
     "height": 0
    },
    "id": "N2zhrBLHg7un",
    "outputId": "22607ac0-70de-4224-9695-6e05c2cb592b"
   },
   "outputs": [
    {
     "data": {
      "text/plain": [
       "<matplotlib.axes._subplots.AxesSubplot at 0x1813c8625b0>"
      ]
     },
     "execution_count": 159,
     "metadata": {},
     "output_type": "execute_result"
    },
    {
     "data": {
      "image/png": "[encoded data removed]",
      "text/plain": [
       "<Figure size 432x288 with 1 Axes>"
      ]
     },
     "metadata": {
      "needs_background": "light"
     },
     "output_type": "display_data"
    }
   ],
   "source": [
    "file['relevent_experience'].value_counts().plot(kind='barh')"
   ]
  },
  {
   "cell_type": "code",
   "execution_count": 160,
   "metadata": {
    "colab": {
     "base_uri": "https://localhost:8080/",
     "height": 0
    },
    "id": "M9WlLX5Zg7uo",
    "outputId": "d47c1d92-9df7-430d-9205-7fd324f6fc73"
   },
   "outputs": [
    {
     "data": {
      "text/plain": [
       "relevent_experience      gender\n",
       "Has relevent experience  Male      7138\n",
       "                         Female     660\n",
       "No relevent experience   Male       935\n",
       "                         Female     144\n",
       "Name: gender, dtype: int64"
      ]
     },
     "execution_count": 160,
     "metadata": {},
     "output_type": "execute_result"
    },
    {
     "data": {
      "image/png": "[encoded data removed]",
      "text/plain": [
       "<Figure size 432x288 with 1 Axes>"
      ]
     },
     "metadata": {
      "needs_background": "light"
     },
     "output_type": "display_data"
    }
   ],
   "source": [
    "file.groupby(['relevent_experience'])['gender'].value_counts().plot(kind='barh')\n",
    "file.groupby(['relevent_experience'])['gender'].value_counts()\n"
   ]
  },
  {
   "cell_type": "code",
   "execution_count": 161,
   "metadata": {
    "colab": {
     "base_uri": "https://localhost:8080/"
    },
    "id": "Ia28zE27g7up",
    "outputId": "f3ca7a3f-aae8-4b65-e385-13cea6b882ba"
   },
   "outputs": [
    {
     "data": {
      "text/plain": [
       "11.581815929642017"
      ]
     },
     "execution_count": 161,
     "metadata": {},
     "output_type": "execute_result"
    }
   ],
   "source": [
    "percent_male_no_exp=(file.groupby(['relevent_experience'])['gender'].value_counts()[2])*(100)/(file.groupby(['relevent_experience'])['gender'].value_counts()[0]+file.groupby(['relevent_experience'])['gender'].value_counts()[2])\n",
    "percent_male_no_exp"
   ]
  },
  {
   "cell_type": "code",
   "execution_count": 162,
   "metadata": {
    "colab": {
     "base_uri": "https://localhost:8080/"
    },
    "id": "p274tb5ag7ur",
    "outputId": "08e1c712-238d-480d-834d-50d77292838d"
   },
   "outputs": [
    {
     "data": {
      "text/plain": [
       "17.91044776119403"
      ]
     },
     "execution_count": 162,
     "metadata": {},
     "output_type": "execute_result"
    }
   ],
   "source": [
    "percent_female_no_exp=(file.groupby(['relevent_experience'])['gender'].value_counts()[3])*(100)/(file.groupby(['relevent_experience'])['gender'].value_counts()[1]+file.groupby(['relevent_experience'])['gender'].value_counts()[3])\n",
    "percent_female_no_exp"
   ]
  },
  {
   "cell_type": "markdown",
   "metadata": {
    "id": "-t7bqCKVg7us"
   },
   "source": [
    "## Enrolled university analysis"
   ]
  },
  {
   "cell_type": "markdown",
   "metadata": {
    "id": "ptywR2IVg7us"
   },
   "source": [
    "- The most of people did not attend college.\n",
    "- 822 people attended college in a full-time course. 522 people attended college on a part-time course.\n",
    "- 15.14% of candidates attended college."
   ]
  },
  {
   "cell_type": "code",
   "execution_count": 163,
   "metadata": {
    "colab": {
     "base_uri": "https://localhost:8080/"
    },
    "id": "U_kBPJ0og7ut",
    "outputId": "b604b423-06da-43f7-a851-5b0618dfe0cd"
   },
   "outputs": [
    {
     "data": {
      "text/plain": [
       "no_enrollment       7533\n",
       "Full time course     822\n",
       "Part time course     522\n",
       "Name: enrolled_university, dtype: int64"
      ]
     },
     "execution_count": 163,
     "metadata": {},
     "output_type": "execute_result"
    }
   ],
   "source": [
    "file.enrolled_university.value_counts()"
   ]
  },
  {
   "cell_type": "code",
   "execution_count": 164,
   "metadata": {
    "colab": {
     "base_uri": "https://localhost:8080/",
     "height": 0
    },
    "id": "6iq-HZ7lg7uu",
    "outputId": "01fab515-0f1c-4a0e-dcea-bc980b86d922"
   },
   "outputs": [
    {
     "data": {
      "text/plain": [
       "<matplotlib.axes._subplots.AxesSubplot at 0x18140380400>"
      ]
     },
     "execution_count": 164,
     "metadata": {},
     "output_type": "execute_result"
    },
    {
     "data": {
      "image/png": "[encoded data removed]",
      "text/plain": [
       "<Figure size 432x288 with 1 Axes>"
      ]
     },
     "metadata": {
      "needs_background": "light"
     },
     "output_type": "display_data"
    }
   ],
   "source": [
    "file.enrolled_university.value_counts().plot(kind='barh')"
   ]
  },
  {
   "cell_type": "code",
   "execution_count": 165,
   "metadata": {
    "colab": {
     "base_uri": "https://localhost:8080/"
    },
    "id": "7O8kwOUcg7uv",
    "outputId": "81d64670-da2f-4f6c-82f2-fc817d411dbc"
   },
   "outputs": [
    {
     "data": {
      "text/plain": [
       "15.140250084488002"
      ]
     },
     "execution_count": 165,
     "metadata": {},
     "output_type": "execute_result"
    }
   ],
   "source": [
    "attendance = file.enrolled_university.value_counts()[1] + file.enrolled_university.value_counts()[2]\n",
    "\n",
    "all_candidates=sum([file.enrolled_university.value_counts()[0],file.enrolled_university.value_counts()[1],file.enrolled_university.value_counts()[2]])\n",
    "percent_of_attendance = (100*attendance)/(all_candidates)\n",
    "percent_of_attendance\n"
   ]
  },
  {
   "cell_type": "markdown",
   "metadata": {
    "id": "NCyUVUomg7uw"
   },
   "source": [
    "## Education level analysis"
   ]
  },
  {
   "cell_type": "markdown",
   "metadata": {
    "id": "RxCMW4Ajg7ux"
   },
   "source": [
    "- The most candidates are in Graduate level "
   ]
  },
  {
   "cell_type": "code",
   "execution_count": 166,
   "metadata": {
    "colab": {
     "base_uri": "https://localhost:8080/",
     "height": 0
    },
    "id": "kaTNk3ATg7uy",
    "outputId": "1d6f3b8d-75fa-4c08-f241-6cde178b4529"
   },
   "outputs": [
    {
     "data": {
      "text/plain": [
       "Phd          254\n",
       "Masters     2433\n",
       "Graduate    6190\n",
       "Name: education_level, dtype: int64"
      ]
     },
     "execution_count": 166,
     "metadata": {},
     "output_type": "execute_result"
    },
    {
     "data": {
      "image/png": "[encoded data removed]",
      "text/plain": [
       "<Figure size 432x288 with 1 Axes>"
      ]
     },
     "metadata": {
      "needs_background": "light"
     },
     "output_type": "display_data"
    }
   ],
   "source": [
    "file.education_level.value_counts().sort_values().plot(kind='barh')\n",
    "file.education_level.value_counts().sort_values()\n"
   ]
  },
  {
   "cell_type": "markdown",
   "metadata": {
    "id": "DklG0uyig7uy"
   },
   "source": [
    " ## Major discipline analysis\n"
   ]
  },
  {
   "cell_type": "markdown",
   "metadata": {
    "id": "liu6yI0xg7uz"
   },
   "source": [
    "- The vast majority of candidates specialize in the STEM discipline (7924 candidates).\n",
    "\n",
    "\n",
    "`The next specializations are:`\n",
    "* Humanities (374)\n",
    "* Other (175)\n",
    "* Business Degree (168)\n",
    "* Arts (126)\n",
    "* No Major (110)\n"
   ]
  },
  {
   "cell_type": "code",
   "execution_count": 167,
   "metadata": {
    "colab": {
     "base_uri": "https://localhost:8080/",
     "height": 0
    },
    "id": "_AbE_nx8g7u0",
    "outputId": "39ba253c-af7f-483a-dd6f-fc91230b6948"
   },
   "outputs": [
    {
     "data": {
      "text/plain": [
       "No Major            110\n",
       "Arts                126\n",
       "Business Degree     168\n",
       "Other               175\n",
       "Humanities          374\n",
       "STEM               7924\n",
       "Name: major_discipline, dtype: int64"
      ]
     },
     "execution_count": 167,
     "metadata": {},
     "output_type": "execute_result"
    },
    {
     "data": {
      "image/png": "[encoded data removed]",
      "text/plain": [
       "<Figure size 432x288 with 1 Axes>"
      ]
     },
     "metadata": {
      "needs_background": "light"
     },
     "output_type": "display_data"
    }
   ],
   "source": [
    "file.major_discipline.value_counts().sort_values().plot(kind='barh')\n",
    "file.major_discipline.value_counts().sort_values()"
   ]
  },
  {
   "cell_type": "markdown",
   "metadata": {
    "id": "a3xIcp__g7u1"
   },
   "source": [
    "- The most candidates who are specialized in STEM, have a Graduate level.\n",
    "Data Science relies heavily on math and science. This explains why so many candidates specialize in STEM."
   ]
  },
  {
   "cell_type": "code",
   "execution_count": 168,
   "metadata": {
    "colab": {
     "base_uri": "https://localhost:8080/",
     "height": 0
    },
    "id": "LbWgQyUYg7vJ",
    "outputId": "2037d21d-3f3f-44e9-d8b3-7b3c0de1d392"
   },
   "outputs": [
    {
     "data": {
      "text/plain": [
       "major_discipline  education_level\n",
       "STEM              Graduate           5505\n",
       "                  Masters            2180\n",
       "                  Phd                 239\n",
       "Humanities        Graduate            236\n",
       "                  Masters             128\n",
       "Name: education_level, dtype: int64"
      ]
     },
     "execution_count": 168,
     "metadata": {},
     "output_type": "execute_result"
    },
    {
     "data": {
      "image/png": "[encoded data removed]",
      "text/plain": [
       "<Figure size 432x288 with 1 Axes>"
      ]
     },
     "metadata": {
      "needs_background": "light"
     },
     "output_type": "display_data"
    }
   ],
   "source": [
    "file.groupby(['major_discipline'])['education_level'].value_counts().sort_values(ascending=False).head(5).plot(kind='barh')\n",
    "file.groupby(['major_discipline'])['education_level'].value_counts().sort_values(ascending=False).head(5)"
   ]
  },
  {
   "cell_type": "markdown",
   "metadata": {
    "id": "tauqx4DTg7vK"
   },
   "source": [
    "## Experience analysis"
   ]
  },
  {
   "cell_type": "markdown",
   "metadata": {
    "id": "OLOen7wng7vM"
   },
   "source": [
    "- About 1868 candidates have over 20 years of experience in Data Science. There are also many people with 5 years of experience\n"
   ]
  },
  {
   "cell_type": "code",
   "execution_count": 169,
   "metadata": {
    "colab": {
     "base_uri": "https://localhost:8080/",
     "height": 0
    },
    "id": "Vsryronag7vN",
    "outputId": "7404fa82-0f46-49d5-f87b-dc28cf9e342b"
   },
   "outputs": [
    {
     "data": {
      "text/plain": [
       "<matplotlib.axes._subplots.AxesSubplot at 0x1814049a190>"
      ]
     },
     "execution_count": 169,
     "metadata": {},
     "output_type": "execute_result"
    },
    {
     "data": {
      "image/png": "[encoded data removed]",
      "text/plain": [
       "<Figure size 432x432 with 1 Axes>"
      ]
     },
     "metadata": {
      "needs_background": "light"
     },
     "output_type": "display_data"
    }
   ],
   "source": [
    "\n",
    "exp_val_counts = file.experience.value_counts()\n",
    "plt.figure(figsize=(6, 6))\n",
    "file.experience.value_counts().plot(kind='barh')\n"
   ]
  },
  {
   "cell_type": "markdown",
   "metadata": {
    "id": "8RHk7eyPg7vP"
   },
   "source": [
    "### We can see the increasing popularity of Data Science. Most candidates have between 6 and 10 years of expeiance and between 11 and 15 years of experience. "
   ]
  },
  {
   "cell_type": "code",
   "execution_count": 170,
   "metadata": {
    "colab": {
     "base_uri": "https://localhost:8080/"
    },
    "id": "exA-Esnvg7vP",
    "outputId": "c47ae914-761f-4fce-f597-b90f31c12130"
   },
   "outputs": [
    {
     "name": "stdout",
     "output_type": "stream",
     "text": [
      "Candidates with experience between less than one and five years:  1979\n",
      "Candidates with experience between six and ten years:  8877\n",
      "Candidates with experience between eleven and fifteen years:  8877\n",
      "Candidates with experience between sixteen and more than twenty years:  2799\n"
     ]
    }
   ],
   "source": [
    "\n",
    "exp_from_1_to_5_years=sum(file.experience <6)\n",
    "exp_from_6_to_10_years=sum((file.experience >5)<11)\n",
    "exp_from_11_to_15_years=sum((file.experience >10)<16)\n",
    "exp_from_16_to_21_years=sum(file.experience >15)\n",
    "\n",
    "print(\"Candidates with experience between less than one and five years: \", exp_from_1_to_5_years)\n",
    "print(\"Candidates with experience between six and ten years: \", exp_from_6_to_10_years)\n",
    "print(\"Candidates with experience between eleven and fifteen years: \", exp_from_11_to_15_years)\n",
    "print(\"Candidates with experience between sixteen and more than twenty years: \", exp_from_16_to_21_years)"
   ]
  },
  {
   "cell_type": "markdown",
   "metadata": {
    "id": "k-Z71JeVg7vW"
   },
   "source": [
    "## Company size analysis"
   ]
  },
  {
   "cell_type": "markdown",
   "metadata": {
    "id": "997oYpcAg7vX"
   },
   "source": [
    "- The most candidates work in small companies (from 50 to 99 and from 100 to 500 workers)."
   ]
  },
  {
   "cell_type": "code",
   "execution_count": 171,
   "metadata": {
    "colab": {
     "base_uri": "https://localhost:8080/",
     "height": 0
    },
    "id": "a4x5bR1bg7vX",
    "outputId": "f9fab95e-cd21-410e-aa84-5d30486c8482"
   },
   "outputs": [
    {
     "data": {
      "text/plain": [
       "<matplotlib.axes._subplots.AxesSubplot at 0x1814058bbb0>"
      ]
     },
     "execution_count": 171,
     "metadata": {},
     "output_type": "execute_result"
    },
    {
     "data": {
      "image/png": "[encoded data removed]",
      "text/plain": [
       "<Figure size 432x288 with 1 Axes>"
      ]
     },
     "metadata": {
      "needs_background": "light"
     },
     "output_type": "display_data"
    }
   ],
   "source": [
    "\n",
    "file.groupby(['company_size_from'])['company_size_to'].value_counts().sort_values().plot(kind='barh')\n"
   ]
  },
  {
   "cell_type": "markdown",
   "metadata": {
    "id": "Lox_1RGcg7vY"
   },
   "source": [
    "## Company type analysis"
   ]
  },
  {
   "cell_type": "markdown",
   "metadata": {
    "id": "w6QH7knjg7vZ"
   },
   "source": [
    "- Most of the companies which candidates work is a private limited company (6738). Next are Funded Startup (775) and Public sector (559)."
   ]
  },
  {
   "cell_type": "code",
   "execution_count": 172,
   "metadata": {
    "colab": {
     "base_uri": "https://localhost:8080/",
     "height": 0
    },
    "id": "sDDxgtqwg7vZ",
    "outputId": "ba054a4e-a8be-4c01-f083-fcc6c49eae3d"
   },
   "outputs": [
    {
     "data": {
      "text/plain": [
       "private limited company          6738\n",
       "Funded Startup                    775\n",
       "Public Sector                     559\n",
       "Early Stage Startup               382\n",
       "Non-Governmental Organisation     352\n",
       "Other                              71\n",
       "Name: company_type, dtype: int64"
      ]
     },
     "execution_count": 172,
     "metadata": {},
     "output_type": "execute_result"
    },
    {
     "data": {
      "image/png": "[encoded data removed]",
      "text/plain": [
       "<Figure size 432x288 with 1 Axes>"
      ]
     },
     "metadata": {
      "needs_background": "light"
     },
     "output_type": "display_data"
    }
   ],
   "source": [
    "\n",
    "file.company_type.value_counts().plot(kind='barh')\n",
    "file.company_type.value_counts()"
   ]
  },
  {
   "cell_type": "markdown",
   "metadata": {
    "id": "-VyTWawig7va"
   },
   "source": [
    "## Last new job analysis"
   ]
  },
  {
   "cell_type": "markdown",
   "metadata": {
    "id": "Jx0UkiwKg7va"
   },
   "source": [
    "- The most common difference between the candidate's past and current job is 1 year."
   ]
  },
  {
   "cell_type": "code",
   "execution_count": 173,
   "metadata": {
    "colab": {
     "base_uri": "https://localhost:8080/",
     "height": 0
    },
    "id": "XTfdc581g7vd",
    "outputId": "24c22b9a-0799-4a15-e54f-37dc17dce349"
   },
   "outputs": [
    {
     "data": {
      "text/plain": [
       "<matplotlib.axes._subplots.AxesSubplot at 0x181409b1fa0>"
      ]
     },
     "execution_count": 173,
     "metadata": {},
     "output_type": "execute_result"
    },
    {
     "data": {
      "image/png": "[encoded data removed]",
      "text/plain": [
       "<Figure size 432x288 with 1 Axes>"
      ]
     },
     "metadata": {
      "needs_background": "light"
     },
     "output_type": "display_data"
    }
   ],
   "source": [
    "\n",
    "file.last_new_job.value_counts().plot(kind='barh')"
   ]
  },
  {
   "cell_type": "markdown",
   "metadata": {
    "id": "mUUjnYXLg7ve"
   },
   "source": [
    "# Target\n",
    "- 0 – Not looking for job change,\n",
    "- 1 – Looking for a job change\n",
    "### As you can see, here we have imbalanced data, the number of 1 ( Looking for a job change) < 0 (Not looking for job change)\n",
    "\n"
   ]
  },
  {
   "cell_type": "code",
   "execution_count": 174,
   "metadata": {
    "colab": {
     "base_uri": "https://localhost:8080/",
     "height": 356
    },
    "id": "lZmqCCIcg7vf",
    "outputId": "15623465-968c-4a00-fd26-2bc94a29cb61"
   },
   "outputs": [
    {
     "data": {
      "text/plain": [
       "<matplotlib.axes._subplots.AxesSubplot at 0x18140a18430>"
      ]
     },
     "execution_count": 174,
     "metadata": {},
     "output_type": "execute_result"
    },
    {
     "data": {
      "image/png": "[encoded data removed]",
      "text/plain": [
       "<Figure size 432x288 with 1 Axes>"
      ]
     },
     "metadata": {
      "needs_background": "light"
     },
     "output_type": "display_data"
    }
   ],
   "source": [
    "sns.countplot(file['target'])"
   ]
  },
  {
   "cell_type": "markdown",
   "metadata": {
    "id": "dwN0qINag7vh"
   },
   "source": [
    "### the probability that the person will not change the job is higher "
   ]
  },
  {
   "cell_type": "code",
   "execution_count": 175,
   "metadata": {
    "colab": {
     "base_uri": "https://localhost:8080/",
     "height": 0
    },
    "id": "Ikm8ZHpng7vk",
    "outputId": "5944855d-11c0-4820-903a-f805bb8f49d4"
   },
   "outputs": [
    {
     "data": {
      "text/plain": [
       "<matplotlib.axes._subplots.AxesSubplot at 0x18140a62340>"
      ]
     },
     "execution_count": 175,
     "metadata": {},
     "output_type": "execute_result"
    },
    {
     "data": {
      "image/png": "[encoded data removed]",
      "text/plain": [
       "<Figure size 432x288 with 1 Axes>"
      ]
     },
     "metadata": {
      "needs_background": "light"
     },
     "output_type": "display_data"
    }
   ],
   "source": [
    "sns.countplot(file['relevent_experience'],hue=file['target'])"
   ]
  },
  {
   "cell_type": "markdown",
   "metadata": {
    "id": "wddL28iCg7vk"
   },
   "source": [
    "### The most candidates with relevent experience and with not relevent experience are not looking for a job chance"
   ]
  },
  {
   "cell_type": "code",
   "execution_count": 176,
   "metadata": {
    "colab": {
     "base_uri": "https://localhost:8080/",
     "height": 0
    },
    "id": "ERyPdGTNg7vk",
    "outputId": "30413c68-8c30-4b72-c0db-27b1ab8e3bba"
   },
   "outputs": [
    {
     "data": {
      "text/plain": [
       "<matplotlib.axes._subplots.AxesSubplot at 0x18140ac1520>"
      ]
     },
     "execution_count": 176,
     "metadata": {},
     "output_type": "execute_result"
    },
    {
     "data": {
      "image/png": "[encoded data removed]",
      "text/plain": [
       "<Figure size 432x288 with 1 Axes>"
      ]
     },
     "metadata": {
      "needs_background": "light"
     },
     "output_type": "display_data"
    }
   ],
   "source": [
    "sns.countplot(file['enrolled_university'],hue=file['target'])"
   ]
  },
  {
   "cell_type": "markdown",
   "metadata": {
    "id": "zM3Ki3MVg7vl"
   },
   "source": [
    "#### 1.Most of the person are having no enrollment in any university and those without any enrollment have no interest in changing their job\n",
    "\n",
    "#### 2.Part Time course enrolled students are very less and they also dont want to change\n",
    "\n",
    "#### 3.Full time enrolled are not very much also but in proportion they have higher chance of changing the job than others"
   ]
  },
  {
   "cell_type": "code",
   "execution_count": 177,
   "metadata": {
    "colab": {
     "base_uri": "https://localhost:8080/",
     "height": 0
    },
    "id": "J4Vlsw0yg7vl",
    "outputId": "20a89338-8614-45fc-b8f4-9248ee009f23"
   },
   "outputs": [
    {
     "data": {
      "text/plain": [
       "<matplotlib.axes._subplots.AxesSubplot at 0x18140b07970>"
      ]
     },
     "execution_count": 177,
     "metadata": {},
     "output_type": "execute_result"
    },
    {
     "data": {
      "image/png": "[encoded data removed]",
      "text/plain": [
       "<Figure size 432x288 with 1 Axes>"
      ]
     },
     "metadata": {
      "needs_background": "light"
     },
     "output_type": "display_data"
    }
   ],
   "source": [
    "sns.boxplot(x='target',y='city_development_index',data=file)"
   ]
  },
  {
   "cell_type": "markdown",
   "metadata": {
    "id": "YShQG1MSg7vm"
   },
   "source": [
    "#### 1.Most of the people who are not changing jobs are from city with high development index so basically they are having a                comfortable life in  respective city are not willing to change jobs\n",
    "#### 2.People in cities with less development index tend to change their jobs for better life style maybe!\n",
    "\n"
   ]
  },
  {
   "cell_type": "code",
   "execution_count": 178,
   "metadata": {
    "colab": {
     "base_uri": "https://localhost:8080/",
     "height": 0
    },
    "id": "smhi721Qg7vm",
    "outputId": "24c5362c-a3c3-4fe8-c9a0-29e7949343d6"
   },
   "outputs": [
    {
     "data": {
      "text/plain": [
       "<matplotlib.axes._subplots.AxesSubplot at 0x18140b78fa0>"
      ]
     },
     "execution_count": 178,
     "metadata": {},
     "output_type": "execute_result"
    },
    {
     "data": {
      "image/png": "[encoded data removed]",
      "text/plain": [
       "<Figure size 432x288 with 1 Axes>"
      ]
     },
     "metadata": {
      "needs_background": "light"
     },
     "output_type": "display_data"
    }
   ],
   "source": [
    "sns.boxplot(y='training_hours',x='target',data=file)"
   ]
  },
  {
   "cell_type": "code",
   "execution_count": 179,
   "metadata": {
    "colab": {
     "base_uri": "https://localhost:8080/",
     "height": 0
    },
    "id": "XPbpygxTg7vn",
    "outputId": "850f06ea-d044-4d8e-c855-59bccb00192d"
   },
   "outputs": [
    {
     "data": {
      "text/plain": [
       "<matplotlib.axes._subplots.AxesSubplot at 0x18140aa8a00>"
      ]
     },
     "execution_count": 179,
     "metadata": {},
     "output_type": "execute_result"
    },
    {
     "data": {
      "image/png": "[encoded data removed]",
      "text/plain": [
       "<Figure size 432x288 with 1 Axes>"
      ]
     },
     "metadata": {
      "needs_background": "light"
     },
     "output_type": "display_data"
    }
   ],
   "source": [
    "sns.barplot(y='training_hours',x='target',data=file)"
   ]
  },
  {
   "cell_type": "markdown",
   "metadata": {
    "id": "kGjM5fvRg7vn"
   },
   "source": [
    "#### There is no much difference between training hours of those who are wishing to change and those who are not , so not much can be deduced from this classification\n",
    "\n"
   ]
  },
  {
   "cell_type": "code",
   "execution_count": 180,
   "metadata": {
    "colab": {
     "base_uri": "https://localhost:8080/",
     "height": 0
    },
    "id": "eX-TW6ytg7vo",
    "outputId": "ae0a3755-f605-40f9-9ec1-08617d29956b"
   },
   "outputs": [
    {
     "data": {
      "text/plain": [
       "<matplotlib.axes._subplots.AxesSubplot at 0x18140c32d90>"
      ]
     },
     "execution_count": 180,
     "metadata": {},
     "output_type": "execute_result"
    },
    {
     "data": {
      "image/png": "[encoded data removed]",
      "text/plain": [
       "<Figure size 1080x432 with 1 Axes>"
      ]
     },
     "metadata": {
      "needs_background": "light"
     },
     "output_type": "display_data"
    }
   ],
   "source": [
    "plt.figure(figsize=(15,6))\n",
    "sns.countplot(file['experience'],hue=file['target'])"
   ]
  },
  {
   "cell_type": "markdown",
   "metadata": {
    "id": "F4FBs2yxg7vp"
   },
   "source": [
    "#### 1.people who have experience less than 1 year have more tendency to change their job while those with more than 20 years of experience have very less tendency of changing jobz\n",
    "\n",
    "#### 2.As experience increase , tendency to change the job becomes more and more less\n",
    "\n"
   ]
  },
  {
   "cell_type": "code",
   "execution_count": 181,
   "metadata": {
    "colab": {
     "base_uri": "https://localhost:8080/",
     "height": 0
    },
    "id": "agl3Ityhg7vq",
    "outputId": "bd93d430-2f6e-450a-eba5-428ac67b81cb"
   },
   "outputs": [
    {
     "data": {
      "text/plain": [
       "<matplotlib.axes._subplots.AxesSubplot at 0x18141ce4b20>"
      ]
     },
     "execution_count": 181,
     "metadata": {},
     "output_type": "execute_result"
    },
    {
     "data": {
      "image/png": "[encoded data removed]",
      "text/plain": [
       "<Figure size 432x288 with 1 Axes>"
      ]
     },
     "metadata": {
      "needs_background": "light"
     },
     "output_type": "display_data"
    }
   ],
   "source": [
    "sns.countplot(file['education_level'],hue=file['target'])"
   ]
  },
  {
   "cell_type": "markdown",
   "metadata": {
    "id": "Thim3ZqLg7vq"
   },
   "source": [
    "#### 1.Graduates have very less chance of leaving\n",
    "\n",
    "#### 2.Regardless of any education level , there is a very less chance of changing job"
   ]
  },
  {
   "cell_type": "code",
   "execution_count": 182,
   "metadata": {
    "colab": {
     "base_uri": "https://localhost:8080/",
     "height": 0
    },
    "id": "CiFXMJ6Xg7vr",
    "outputId": "2a0774ce-538b-4f69-a3db-efcfec531035"
   },
   "outputs": [
    {
     "data": {
      "text/plain": [
       "<matplotlib.axes._subplots.AxesSubplot at 0x181409f48e0>"
      ]
     },
     "execution_count": 182,
     "metadata": {},
     "output_type": "execute_result"
    },
    {
     "data": {
      "image/png": "[encoded data removed]",
      "text/plain": [
       "<Figure size 1440x432 with 1 Axes>"
      ]
     },
     "metadata": {
      "needs_background": "light"
     },
     "output_type": "display_data"
    }
   ],
   "source": [
    "plt.figure(figsize=(20,6))\n",
    "sns.countplot(file['major_discipline'],hue=file['target'])"
   ]
  },
  {
   "cell_type": "markdown",
   "metadata": {
    "id": "c_YdvSYxg7vs"
   },
   "source": [
    "#### 1.Mostly people are STEM\n",
    "\n",
    "#### 2.In STEM , people tend not to change the job\n",
    "\n",
    "#### 3.People not tend to change job in any field"
   ]
  },
  {
   "cell_type": "markdown",
   "metadata": {
    "id": "4mCNd9nfg7vu"
   },
   "source": [
    "# Classification"
   ]
  },
  {
   "cell_type": "code",
   "execution_count": 183,
   "metadata": {
    "id": "piekAyWgg7vv"
   },
   "outputs": [],
   "source": [
    "np.random.seed(3)\n",
    "test_clean2=file.copy()"
   ]
  },
  {
   "cell_type": "code",
   "execution_count": 184,
   "metadata": {
    "colab": {
     "base_uri": "https://localhost:8080/",
     "height": 565
    },
    "id": "1itZ1ZVUg7vw",
    "outputId": "2f31dae8-a4d0-4cba-e486-12fb8fd47f8b"
   },
   "outputs": [
    {
     "data": {
      "text/html": [
       "<div>\n",
       "<style scoped>\n",
       "    .dataframe tbody tr th:only-of-type {\n",
       "        vertical-align: middle;\n",
       "    }\n",
       "\n",
       "    .dataframe tbody tr th {\n",
       "        vertical-align: top;\n",
       "    }\n",
       "\n",
       "    .dataframe thead th {\n",
       "        text-align: right;\n",
       "    }\n",
       "</style>\n",
       "<table border=\"1\" class=\"dataframe\">\n",
       "  <thead>\n",
       "    <tr style=\"text-align: right;\">\n",
       "      <th></th>\n",
       "      <th>enrollee_id</th>\n",
       "      <th>city</th>\n",
       "      <th>city_development_index</th>\n",
       "      <th>gender</th>\n",
       "      <th>relevent_experience</th>\n",
       "      <th>enrolled_university</th>\n",
       "      <th>education_level</th>\n",
       "      <th>major_discipline</th>\n",
       "      <th>experience</th>\n",
       "      <th>company_type</th>\n",
       "      <th>last_new_job</th>\n",
       "      <th>training_hours</th>\n",
       "      <th>target</th>\n",
       "      <th>company_size_from</th>\n",
       "      <th>company_size_to</th>\n",
       "    </tr>\n",
       "  </thead>\n",
       "  <tbody>\n",
       "    <tr>\n",
       "      <th>0</th>\n",
       "      <td>29725</td>\n",
       "      <td>city_40</td>\n",
       "      <td>0.776</td>\n",
       "      <td>Male</td>\n",
       "      <td>No relevent experience</td>\n",
       "      <td>no_enrollment</td>\n",
       "      <td>Graduate</td>\n",
       "      <td>STEM</td>\n",
       "      <td>15</td>\n",
       "      <td>private limited company</td>\n",
       "      <td>5</td>\n",
       "      <td>47</td>\n",
       "      <td>0</td>\n",
       "      <td>50</td>\n",
       "      <td>99</td>\n",
       "    </tr>\n",
       "    <tr>\n",
       "      <th>1</th>\n",
       "      <td>00666</td>\n",
       "      <td>city_162</td>\n",
       "      <td>0.767</td>\n",
       "      <td>Male</td>\n",
       "      <td>Has relevent experience</td>\n",
       "      <td>no_enrollment</td>\n",
       "      <td>Masters</td>\n",
       "      <td>STEM</td>\n",
       "      <td>21</td>\n",
       "      <td>Funded Startup</td>\n",
       "      <td>4</td>\n",
       "      <td>8</td>\n",
       "      <td>0</td>\n",
       "      <td>50</td>\n",
       "      <td>99</td>\n",
       "    </tr>\n",
       "    <tr>\n",
       "      <th>2</th>\n",
       "      <td>00402</td>\n",
       "      <td>city_46</td>\n",
       "      <td>0.762</td>\n",
       "      <td>Male</td>\n",
       "      <td>Has relevent experience</td>\n",
       "      <td>no_enrollment</td>\n",
       "      <td>Graduate</td>\n",
       "      <td>STEM</td>\n",
       "      <td>13</td>\n",
       "      <td>private limited company</td>\n",
       "      <td>5</td>\n",
       "      <td>18</td>\n",
       "      <td>1</td>\n",
       "      <td>1</td>\n",
       "      <td>10</td>\n",
       "    </tr>\n",
       "    <tr>\n",
       "      <th>3</th>\n",
       "      <td>27107</td>\n",
       "      <td>city_103</td>\n",
       "      <td>0.920</td>\n",
       "      <td>Male</td>\n",
       "      <td>Has relevent experience</td>\n",
       "      <td>no_enrollment</td>\n",
       "      <td>Graduate</td>\n",
       "      <td>STEM</td>\n",
       "      <td>7</td>\n",
       "      <td>private limited company</td>\n",
       "      <td>1</td>\n",
       "      <td>46</td>\n",
       "      <td>1</td>\n",
       "      <td>50</td>\n",
       "      <td>99</td>\n",
       "    </tr>\n",
       "    <tr>\n",
       "      <th>4</th>\n",
       "      <td>23853</td>\n",
       "      <td>city_103</td>\n",
       "      <td>0.920</td>\n",
       "      <td>Male</td>\n",
       "      <td>Has relevent experience</td>\n",
       "      <td>no_enrollment</td>\n",
       "      <td>Graduate</td>\n",
       "      <td>STEM</td>\n",
       "      <td>5</td>\n",
       "      <td>private limited company</td>\n",
       "      <td>1</td>\n",
       "      <td>108</td>\n",
       "      <td>0</td>\n",
       "      <td>5000</td>\n",
       "      <td>9999</td>\n",
       "    </tr>\n",
       "    <tr>\n",
       "      <th>...</th>\n",
       "      <td>...</td>\n",
       "      <td>...</td>\n",
       "      <td>...</td>\n",
       "      <td>...</td>\n",
       "      <td>...</td>\n",
       "      <td>...</td>\n",
       "      <td>...</td>\n",
       "      <td>...</td>\n",
       "      <td>...</td>\n",
       "      <td>...</td>\n",
       "      <td>...</td>\n",
       "      <td>...</td>\n",
       "      <td>...</td>\n",
       "      <td>...</td>\n",
       "      <td>...</td>\n",
       "    </tr>\n",
       "    <tr>\n",
       "      <th>8872</th>\n",
       "      <td>21319</td>\n",
       "      <td>city_21</td>\n",
       "      <td>0.624</td>\n",
       "      <td>Male</td>\n",
       "      <td>No relevent experience</td>\n",
       "      <td>Full time course</td>\n",
       "      <td>Graduate</td>\n",
       "      <td>STEM</td>\n",
       "      <td>1</td>\n",
       "      <td>private limited company</td>\n",
       "      <td>1</td>\n",
       "      <td>52</td>\n",
       "      <td>1</td>\n",
       "      <td>100</td>\n",
       "      <td>500</td>\n",
       "    </tr>\n",
       "    <tr>\n",
       "      <th>8873</th>\n",
       "      <td>00251</td>\n",
       "      <td>city_103</td>\n",
       "      <td>0.920</td>\n",
       "      <td>Male</td>\n",
       "      <td>Has relevent experience</td>\n",
       "      <td>no_enrollment</td>\n",
       "      <td>Masters</td>\n",
       "      <td>STEM</td>\n",
       "      <td>9</td>\n",
       "      <td>private limited company</td>\n",
       "      <td>1</td>\n",
       "      <td>36</td>\n",
       "      <td>1</td>\n",
       "      <td>50</td>\n",
       "      <td>99</td>\n",
       "    </tr>\n",
       "    <tr>\n",
       "      <th>8874</th>\n",
       "      <td>32313</td>\n",
       "      <td>city_160</td>\n",
       "      <td>0.920</td>\n",
       "      <td>Female</td>\n",
       "      <td>Has relevent experience</td>\n",
       "      <td>no_enrollment</td>\n",
       "      <td>Graduate</td>\n",
       "      <td>STEM</td>\n",
       "      <td>10</td>\n",
       "      <td>Public Sector</td>\n",
       "      <td>3</td>\n",
       "      <td>23</td>\n",
       "      <td>0</td>\n",
       "      <td>100</td>\n",
       "      <td>500</td>\n",
       "    </tr>\n",
       "    <tr>\n",
       "      <th>8875</th>\n",
       "      <td>29754</td>\n",
       "      <td>city_103</td>\n",
       "      <td>0.920</td>\n",
       "      <td>Female</td>\n",
       "      <td>Has relevent experience</td>\n",
       "      <td>no_enrollment</td>\n",
       "      <td>Graduate</td>\n",
       "      <td>Humanities</td>\n",
       "      <td>7</td>\n",
       "      <td>Funded Startup</td>\n",
       "      <td>1</td>\n",
       "      <td>25</td>\n",
       "      <td>0</td>\n",
       "      <td>10</td>\n",
       "      <td>49</td>\n",
       "    </tr>\n",
       "    <tr>\n",
       "      <th>8876</th>\n",
       "      <td>24576</td>\n",
       "      <td>city_103</td>\n",
       "      <td>0.920</td>\n",
       "      <td>Male</td>\n",
       "      <td>Has relevent experience</td>\n",
       "      <td>no_enrollment</td>\n",
       "      <td>Graduate</td>\n",
       "      <td>STEM</td>\n",
       "      <td>21</td>\n",
       "      <td>private limited company</td>\n",
       "      <td>4</td>\n",
       "      <td>44</td>\n",
       "      <td>0</td>\n",
       "      <td>50</td>\n",
       "      <td>99</td>\n",
       "    </tr>\n",
       "  </tbody>\n",
       "</table>\n",
       "<p>8877 rows × 15 columns</p>\n",
       "</div>"
      ],
      "text/plain": [
       "     enrollee_id      city  city_development_index  gender  \\\n",
       "0          29725   city_40                   0.776    Male   \n",
       "1          00666  city_162                   0.767    Male   \n",
       "2          00402   city_46                   0.762    Male   \n",
       "3          27107  city_103                   0.920    Male   \n",
       "4          23853  city_103                   0.920    Male   \n",
       "...          ...       ...                     ...     ...   \n",
       "8872       21319   city_21                   0.624    Male   \n",
       "8873       00251  city_103                   0.920    Male   \n",
       "8874       32313  city_160                   0.920  Female   \n",
       "8875       29754  city_103                   0.920  Female   \n",
       "8876       24576  city_103                   0.920    Male   \n",
       "\n",
       "          relevent_experience enrolled_university education_level  \\\n",
       "0      No relevent experience       no_enrollment        Graduate   \n",
       "1     Has relevent experience       no_enrollment         Masters   \n",
       "2     Has relevent experience       no_enrollment        Graduate   \n",
       "3     Has relevent experience       no_enrollment        Graduate   \n",
       "4     Has relevent experience       no_enrollment        Graduate   \n",
       "...                       ...                 ...             ...   \n",
       "8872   No relevent experience    Full time course        Graduate   \n",
       "8873  Has relevent experience       no_enrollment         Masters   \n",
       "8874  Has relevent experience       no_enrollment        Graduate   \n",
       "8875  Has relevent experience       no_enrollment        Graduate   \n",
       "8876  Has relevent experience       no_enrollment        Graduate   \n",
       "\n",
       "     major_discipline  experience             company_type  last_new_job  \\\n",
       "0                STEM          15  private limited company             5   \n",
       "1                STEM          21           Funded Startup             4   \n",
       "2                STEM          13  private limited company             5   \n",
       "3                STEM           7  private limited company             1   \n",
       "4                STEM           5  private limited company             1   \n",
       "...               ...         ...                      ...           ...   \n",
       "8872             STEM           1  private limited company             1   \n",
       "8873             STEM           9  private limited company             1   \n",
       "8874             STEM          10            Public Sector             3   \n",
       "8875       Humanities           7           Funded Startup             1   \n",
       "8876             STEM          21  private limited company             4   \n",
       "\n",
       "      training_hours  target  company_size_from  company_size_to  \n",
       "0                 47       0                 50               99  \n",
       "1                  8       0                 50               99  \n",
       "2                 18       1                  1               10  \n",
       "3                 46       1                 50               99  \n",
       "4                108       0               5000             9999  \n",
       "...              ...     ...                ...              ...  \n",
       "8872              52       1                100              500  \n",
       "8873              36       1                 50               99  \n",
       "8874              23       0                100              500  \n",
       "8875              25       0                 10               49  \n",
       "8876              44       0                 50               99  \n",
       "\n",
       "[8877 rows x 15 columns]"
      ]
     },
     "execution_count": 184,
     "metadata": {},
     "output_type": "execute_result"
    }
   ],
   "source": [
    "test_clean2"
   ]
  },
  {
   "cell_type": "code",
   "execution_count": 185,
   "metadata": {
    "colab": {
     "base_uri": "https://localhost:8080/"
    },
    "id": "YozckveOg7vw",
    "outputId": "297621cc-4ab6-45b4-87f2-fc7a227fa003"
   },
   "outputs": [
    {
     "data": {
      "text/plain": [
       "0       1\n",
       "1       1\n",
       "2       1\n",
       "3       1\n",
       "4       1\n",
       "       ..\n",
       "8872    1\n",
       "8873    1\n",
       "8874    0\n",
       "8875    0\n",
       "8876    1\n",
       "Name: gender, Length: 8877, dtype: object"
      ]
     },
     "execution_count": 185,
     "metadata": {},
     "output_type": "execute_result"
    }
   ],
   "source": [
    "test_clean2.gender=test_clean2.gender.replace('Male','1')\n",
    "test_clean2.gender=test_clean2.gender.replace('Female','0')\n",
    "test_clean2.gender"
   ]
  },
  {
   "cell_type": "code",
   "execution_count": 186,
   "metadata": {
    "colab": {
     "base_uri": "https://localhost:8080/"
    },
    "id": "XYF9KJtEg7vx",
    "outputId": "7a7b3daa-ce0e-46d3-f774-6005fd547f49"
   },
   "outputs": [
    {
     "data": {
      "text/plain": [
       "no_enrollment       7533\n",
       "Full time course     822\n",
       "Part time course     522\n",
       "Name: enrolled_university, dtype: int64"
      ]
     },
     "execution_count": 186,
     "metadata": {},
     "output_type": "execute_result"
    }
   ],
   "source": [
    "test_clean2.enrolled_university.value_counts()"
   ]
  },
  {
   "cell_type": "code",
   "execution_count": 187,
   "metadata": {
    "colab": {
     "base_uri": "https://localhost:8080/"
    },
    "id": "HUw3ilWag7vy",
    "outputId": "e229083a-1347-4437-e088-4189d369b647"
   },
   "outputs": [
    {
     "data": {
      "text/plain": [
       "0       0\n",
       "1       0\n",
       "2       0\n",
       "3       0\n",
       "4       0\n",
       "       ..\n",
       "8872    1\n",
       "8873    0\n",
       "8874    0\n",
       "8875    0\n",
       "8876    0\n",
       "Name: enrolled_university, Length: 8877, dtype: object"
      ]
     },
     "execution_count": 187,
     "metadata": {},
     "output_type": "execute_result"
    }
   ],
   "source": [
    "test_clean2.enrolled_university=test_clean2.enrolled_university.replace('Full time course','1')\n",
    "test_clean2.enrolled_university=test_clean2.enrolled_university.replace('Part time course','0.5')\n",
    "test_clean2.enrolled_university=test_clean2.enrolled_university.replace('no_enrollment','0')\n",
    "test_clean2.enrolled_university"
   ]
  },
  {
   "cell_type": "code",
   "execution_count": 188,
   "metadata": {
    "colab": {
     "base_uri": "https://localhost:8080/"
    },
    "id": "DKRDCLgNg7vz",
    "outputId": "312bfd03-5ec3-4d0b-f877-cf9c27b1a2de"
   },
   "outputs": [
    {
     "name": "stdout",
     "output_type": "stream",
     "text": [
      "<class 'pandas.core.frame.DataFrame'>\n",
      "RangeIndex: 8877 entries, 0 to 8876\n",
      "Data columns (total 15 columns):\n",
      " #   Column                  Non-Null Count  Dtype  \n",
      "---  ------                  --------------  -----  \n",
      " 0   enrollee_id             8877 non-null   object \n",
      " 1   city                    8877 non-null   object \n",
      " 2   city_development_index  8877 non-null   float64\n",
      " 3   gender                  8877 non-null   object \n",
      " 4   relevent_experience     8877 non-null   object \n",
      " 5   enrolled_university     8877 non-null   object \n",
      " 6   education_level         8877 non-null   object \n",
      " 7   major_discipline        8877 non-null   object \n",
      " 8   experience              8877 non-null   int64  \n",
      " 9   company_type            8877 non-null   object \n",
      " 10  last_new_job            8877 non-null   int64  \n",
      " 11  training_hours          8877 non-null   int64  \n",
      " 12  target                  8877 non-null   int64  \n",
      " 13  company_size_from       8877 non-null   int64  \n",
      " 14  company_size_to         8877 non-null   int64  \n",
      "dtypes: float64(1), int64(6), object(8)\n",
      "memory usage: 1.0+ MB\n"
     ]
    }
   ],
   "source": [
    "test_clean2.info()"
   ]
  },
  {
   "cell_type": "code",
   "execution_count": 189,
   "metadata": {
    "colab": {
     "base_uri": "https://localhost:8080/"
    },
    "id": "jHbZRUmOg7v1",
    "outputId": "ee78d724-dd41-4bdd-96a8-977ae1969230"
   },
   "outputs": [
    {
     "name": "stderr",
     "output_type": "stream",
     "text": [
      "<ipython-input-189-82acec83e9d5>:1: FutureWarning: Columnar iteration over characters will be deprecated in future releases.\n",
      "  test_clean2['Thecity'] , test_clean2['The_City']= test_clean2['city'].str.split('_', 1).str\n"
     ]
    }
   ],
   "source": [
    "test_clean2['Thecity'] , test_clean2['The_City']= test_clean2['city'].str.split('_', 1).str"
   ]
  },
  {
   "cell_type": "code",
   "execution_count": 190,
   "metadata": {
    "id": "aKuhIR_jg7v5"
   },
   "outputs": [],
   "source": [
    "test_clean2 = test_clean2.drop('Thecity', axis=1)\n",
    "test_clean2 = test_clean2.drop('city', axis=1)\n",
    "test_clean2['city']=test_clean2['The_City']\n",
    "test_clean2 = test_clean2.drop('The_City', axis=1)"
   ]
  },
  {
   "cell_type": "code",
   "execution_count": 191,
   "metadata": {
    "colab": {
     "base_uri": "https://localhost:8080/"
    },
    "id": "Vz9nGFJCg7v6",
    "outputId": "76386f4b-ffcf-41bc-ce9f-2e96b1edd215"
   },
   "outputs": [
    {
     "name": "stdout",
     "output_type": "stream",
     "text": [
      "<class 'pandas.core.frame.DataFrame'>\n",
      "RangeIndex: 8877 entries, 0 to 8876\n",
      "Data columns (total 15 columns):\n",
      " #   Column                  Non-Null Count  Dtype  \n",
      "---  ------                  --------------  -----  \n",
      " 0   enrollee_id             8877 non-null   object \n",
      " 1   city_development_index  8877 non-null   float64\n",
      " 2   gender                  8877 non-null   object \n",
      " 3   relevent_experience     8877 non-null   object \n",
      " 4   enrolled_university     8877 non-null   object \n",
      " 5   education_level         8877 non-null   object \n",
      " 6   major_discipline        8877 non-null   object \n",
      " 7   experience              8877 non-null   int64  \n",
      " 8   company_type            8877 non-null   object \n",
      " 9   last_new_job            8877 non-null   int64  \n",
      " 10  training_hours          8877 non-null   int64  \n",
      " 11  target                  8877 non-null   int64  \n",
      " 12  company_size_from       8877 non-null   int64  \n",
      " 13  company_size_to         8877 non-null   int64  \n",
      " 14  city                    8877 non-null   object \n",
      "dtypes: float64(1), int64(6), object(8)\n",
      "memory usage: 1.0+ MB\n"
     ]
    }
   ],
   "source": [
    "test_clean2.info()"
   ]
  },
  {
   "cell_type": "code",
   "execution_count": 192,
   "metadata": {
    "colab": {
     "base_uri": "https://localhost:8080/"
    },
    "id": "ol1-ZqBng7v8",
    "outputId": "119a6507-a848-46b7-b426-db3bc6d60069"
   },
   "outputs": [
    {
     "data": {
      "text/plain": [
       "Has relevent experience    7798\n",
       "No relevent experience     1079\n",
       "Name: relevent_experience, dtype: int64"
      ]
     },
     "execution_count": 192,
     "metadata": {},
     "output_type": "execute_result"
    }
   ],
   "source": [
    "test_clean2.relevent_experience.value_counts()"
   ]
  },
  {
   "cell_type": "code",
   "execution_count": 193,
   "metadata": {
    "id": "TMAJ4s6lg7v-"
   },
   "outputs": [],
   "source": [
    "test_clean2.relevent_experience=test_clean2.relevent_experience.replace('Has relevent experience','1')\n",
    "test_clean2.relevent_experience=test_clean2.relevent_experience.replace('No relevent experience','0')"
   ]
  },
  {
   "cell_type": "code",
   "execution_count": 194,
   "metadata": {
    "colab": {
     "base_uri": "https://localhost:8080/"
    },
    "id": "EIIRDjZrg7v_",
    "outputId": "f36e0e5b-8fd4-4405-c6d8-643e1cacff38"
   },
   "outputs": [
    {
     "data": {
      "text/plain": [
       "0       0\n",
       "1       1\n",
       "2       1\n",
       "3       1\n",
       "4       1\n",
       "       ..\n",
       "8872    0\n",
       "8873    1\n",
       "8874    1\n",
       "8875    1\n",
       "8876    1\n",
       "Name: relevent_experience, Length: 8877, dtype: object"
      ]
     },
     "execution_count": 194,
     "metadata": {},
     "output_type": "execute_result"
    }
   ],
   "source": [
    "test_clean2.relevent_experience"
   ]
  },
  {
   "cell_type": "code",
   "execution_count": 195,
   "metadata": {
    "colab": {
     "base_uri": "https://localhost:8080/",
     "height": 565
    },
    "id": "fNamZxk9g7v_",
    "outputId": "46979806-918d-4a09-b031-0ad69159ca5f"
   },
   "outputs": [
    {
     "data": {
      "text/html": [
       "<div>\n",
       "<style scoped>\n",
       "    .dataframe tbody tr th:only-of-type {\n",
       "        vertical-align: middle;\n",
       "    }\n",
       "\n",
       "    .dataframe tbody tr th {\n",
       "        vertical-align: top;\n",
       "    }\n",
       "\n",
       "    .dataframe thead th {\n",
       "        text-align: right;\n",
       "    }\n",
       "</style>\n",
       "<table border=\"1\" class=\"dataframe\">\n",
       "  <thead>\n",
       "    <tr style=\"text-align: right;\">\n",
       "      <th></th>\n",
       "      <th>enrollee_id</th>\n",
       "      <th>city_development_index</th>\n",
       "      <th>gender</th>\n",
       "      <th>relevent_experience</th>\n",
       "      <th>enrolled_university</th>\n",
       "      <th>education_level</th>\n",
       "      <th>major_discipline</th>\n",
       "      <th>experience</th>\n",
       "      <th>company_type</th>\n",
       "      <th>last_new_job</th>\n",
       "      <th>training_hours</th>\n",
       "      <th>target</th>\n",
       "      <th>company_size_from</th>\n",
       "      <th>company_size_to</th>\n",
       "      <th>city</th>\n",
       "    </tr>\n",
       "  </thead>\n",
       "  <tbody>\n",
       "    <tr>\n",
       "      <th>0</th>\n",
       "      <td>29725</td>\n",
       "      <td>0.776</td>\n",
       "      <td>1</td>\n",
       "      <td>0</td>\n",
       "      <td>0</td>\n",
       "      <td>Graduate</td>\n",
       "      <td>STEM</td>\n",
       "      <td>15</td>\n",
       "      <td>private limited company</td>\n",
       "      <td>5</td>\n",
       "      <td>47</td>\n",
       "      <td>0</td>\n",
       "      <td>50</td>\n",
       "      <td>99</td>\n",
       "      <td>40</td>\n",
       "    </tr>\n",
       "    <tr>\n",
       "      <th>1</th>\n",
       "      <td>00666</td>\n",
       "      <td>0.767</td>\n",
       "      <td>1</td>\n",
       "      <td>1</td>\n",
       "      <td>0</td>\n",
       "      <td>Masters</td>\n",
       "      <td>STEM</td>\n",
       "      <td>21</td>\n",
       "      <td>Funded Startup</td>\n",
       "      <td>4</td>\n",
       "      <td>8</td>\n",
       "      <td>0</td>\n",
       "      <td>50</td>\n",
       "      <td>99</td>\n",
       "      <td>162</td>\n",
       "    </tr>\n",
       "    <tr>\n",
       "      <th>2</th>\n",
       "      <td>00402</td>\n",
       "      <td>0.762</td>\n",
       "      <td>1</td>\n",
       "      <td>1</td>\n",
       "      <td>0</td>\n",
       "      <td>Graduate</td>\n",
       "      <td>STEM</td>\n",
       "      <td>13</td>\n",
       "      <td>private limited company</td>\n",
       "      <td>5</td>\n",
       "      <td>18</td>\n",
       "      <td>1</td>\n",
       "      <td>1</td>\n",
       "      <td>10</td>\n",
       "      <td>46</td>\n",
       "    </tr>\n",
       "    <tr>\n",
       "      <th>3</th>\n",
       "      <td>27107</td>\n",
       "      <td>0.920</td>\n",
       "      <td>1</td>\n",
       "      <td>1</td>\n",
       "      <td>0</td>\n",
       "      <td>Graduate</td>\n",
       "      <td>STEM</td>\n",
       "      <td>7</td>\n",
       "      <td>private limited company</td>\n",
       "      <td>1</td>\n",
       "      <td>46</td>\n",
       "      <td>1</td>\n",
       "      <td>50</td>\n",
       "      <td>99</td>\n",
       "      <td>103</td>\n",
       "    </tr>\n",
       "    <tr>\n",
       "      <th>4</th>\n",
       "      <td>23853</td>\n",
       "      <td>0.920</td>\n",
       "      <td>1</td>\n",
       "      <td>1</td>\n",
       "      <td>0</td>\n",
       "      <td>Graduate</td>\n",
       "      <td>STEM</td>\n",
       "      <td>5</td>\n",
       "      <td>private limited company</td>\n",
       "      <td>1</td>\n",
       "      <td>108</td>\n",
       "      <td>0</td>\n",
       "      <td>5000</td>\n",
       "      <td>9999</td>\n",
       "      <td>103</td>\n",
       "    </tr>\n",
       "    <tr>\n",
       "      <th>...</th>\n",
       "      <td>...</td>\n",
       "      <td>...</td>\n",
       "      <td>...</td>\n",
       "      <td>...</td>\n",
       "      <td>...</td>\n",
       "      <td>...</td>\n",
       "      <td>...</td>\n",
       "      <td>...</td>\n",
       "      <td>...</td>\n",
       "      <td>...</td>\n",
       "      <td>...</td>\n",
       "      <td>...</td>\n",
       "      <td>...</td>\n",
       "      <td>...</td>\n",
       "      <td>...</td>\n",
       "    </tr>\n",
       "    <tr>\n",
       "      <th>8872</th>\n",
       "      <td>21319</td>\n",
       "      <td>0.624</td>\n",
       "      <td>1</td>\n",
       "      <td>0</td>\n",
       "      <td>1</td>\n",
       "      <td>Graduate</td>\n",
       "      <td>STEM</td>\n",
       "      <td>1</td>\n",
       "      <td>private limited company</td>\n",
       "      <td>1</td>\n",
       "      <td>52</td>\n",
       "      <td>1</td>\n",
       "      <td>100</td>\n",
       "      <td>500</td>\n",
       "      <td>21</td>\n",
       "    </tr>\n",
       "    <tr>\n",
       "      <th>8873</th>\n",
       "      <td>00251</td>\n",
       "      <td>0.920</td>\n",
       "      <td>1</td>\n",
       "      <td>1</td>\n",
       "      <td>0</td>\n",
       "      <td>Masters</td>\n",
       "      <td>STEM</td>\n",
       "      <td>9</td>\n",
       "      <td>private limited company</td>\n",
       "      <td>1</td>\n",
       "      <td>36</td>\n",
       "      <td>1</td>\n",
       "      <td>50</td>\n",
       "      <td>99</td>\n",
       "      <td>103</td>\n",
       "    </tr>\n",
       "    <tr>\n",
       "      <th>8874</th>\n",
       "      <td>32313</td>\n",
       "      <td>0.920</td>\n",
       "      <td>0</td>\n",
       "      <td>1</td>\n",
       "      <td>0</td>\n",
       "      <td>Graduate</td>\n",
       "      <td>STEM</td>\n",
       "      <td>10</td>\n",
       "      <td>Public Sector</td>\n",
       "      <td>3</td>\n",
       "      <td>23</td>\n",
       "      <td>0</td>\n",
       "      <td>100</td>\n",
       "      <td>500</td>\n",
       "      <td>160</td>\n",
       "    </tr>\n",
       "    <tr>\n",
       "      <th>8875</th>\n",
       "      <td>29754</td>\n",
       "      <td>0.920</td>\n",
       "      <td>0</td>\n",
       "      <td>1</td>\n",
       "      <td>0</td>\n",
       "      <td>Graduate</td>\n",
       "      <td>Humanities</td>\n",
       "      <td>7</td>\n",
       "      <td>Funded Startup</td>\n",
       "      <td>1</td>\n",
       "      <td>25</td>\n",
       "      <td>0</td>\n",
       "      <td>10</td>\n",
       "      <td>49</td>\n",
       "      <td>103</td>\n",
       "    </tr>\n",
       "    <tr>\n",
       "      <th>8876</th>\n",
       "      <td>24576</td>\n",
       "      <td>0.920</td>\n",
       "      <td>1</td>\n",
       "      <td>1</td>\n",
       "      <td>0</td>\n",
       "      <td>Graduate</td>\n",
       "      <td>STEM</td>\n",
       "      <td>21</td>\n",
       "      <td>private limited company</td>\n",
       "      <td>4</td>\n",
       "      <td>44</td>\n",
       "      <td>0</td>\n",
       "      <td>50</td>\n",
       "      <td>99</td>\n",
       "      <td>103</td>\n",
       "    </tr>\n",
       "  </tbody>\n",
       "</table>\n",
       "<p>8877 rows × 15 columns</p>\n",
       "</div>"
      ],
      "text/plain": [
       "     enrollee_id  city_development_index gender relevent_experience  \\\n",
       "0          29725                   0.776      1                   0   \n",
       "1          00666                   0.767      1                   1   \n",
       "2          00402                   0.762      1                   1   \n",
       "3          27107                   0.920      1                   1   \n",
       "4          23853                   0.920      1                   1   \n",
       "...          ...                     ...    ...                 ...   \n",
       "8872       21319                   0.624      1                   0   \n",
       "8873       00251                   0.920      1                   1   \n",
       "8874       32313                   0.920      0                   1   \n",
       "8875       29754                   0.920      0                   1   \n",
       "8876       24576                   0.920      1                   1   \n",
       "\n",
       "     enrolled_university education_level major_discipline  experience  \\\n",
       "0                      0        Graduate             STEM          15   \n",
       "1                      0         Masters             STEM          21   \n",
       "2                      0        Graduate             STEM          13   \n",
       "3                      0        Graduate             STEM           7   \n",
       "4                      0        Graduate             STEM           5   \n",
       "...                  ...             ...              ...         ...   \n",
       "8872                   1        Graduate             STEM           1   \n",
       "8873                   0         Masters             STEM           9   \n",
       "8874                   0        Graduate             STEM          10   \n",
       "8875                   0        Graduate       Humanities           7   \n",
       "8876                   0        Graduate             STEM          21   \n",
       "\n",
       "                 company_type  last_new_job  training_hours  target  \\\n",
       "0     private limited company             5              47       0   \n",
       "1              Funded Startup             4               8       0   \n",
       "2     private limited company             5              18       1   \n",
       "3     private limited company             1              46       1   \n",
       "4     private limited company             1             108       0   \n",
       "...                       ...           ...             ...     ...   \n",
       "8872  private limited company             1              52       1   \n",
       "8873  private limited company             1              36       1   \n",
       "8874            Public Sector             3              23       0   \n",
       "8875           Funded Startup             1              25       0   \n",
       "8876  private limited company             4              44       0   \n",
       "\n",
       "      company_size_from  company_size_to city  \n",
       "0                    50               99   40  \n",
       "1                    50               99  162  \n",
       "2                     1               10   46  \n",
       "3                    50               99  103  \n",
       "4                  5000             9999  103  \n",
       "...                 ...              ...  ...  \n",
       "8872                100              500   21  \n",
       "8873                 50               99  103  \n",
       "8874                100              500  160  \n",
       "8875                 10               49  103  \n",
       "8876                 50               99  103  \n",
       "\n",
       "[8877 rows x 15 columns]"
      ]
     },
     "execution_count": 195,
     "metadata": {},
     "output_type": "execute_result"
    }
   ],
   "source": [
    "test_clean2"
   ]
  },
  {
   "cell_type": "code",
   "execution_count": 196,
   "metadata": {
    "colab": {
     "base_uri": "https://localhost:8080/"
    },
    "id": "o9TQ-i4Yg7wC",
    "outputId": "38e0790d-eb02-4228-e29a-1d3cf653bdb4"
   },
   "outputs": [
    {
     "data": {
      "text/plain": [
       "array(['40', '162', '46', '103', '61', '114', '159', '21', '160', '16',\n",
       "       '83', '64', '105', '104', '73', '75', '100', '93', '13', '36',\n",
       "       '67', '71', '57', '65', '11', '136', '97', '50', '173', '82', '89',\n",
       "       '150', '90', '98', '28', '115', '94', '165', '142', '12', '43',\n",
       "       '74', '102', '116', '99', '23', '138', '45', '41', '72', '19',\n",
       "       '101', '20', '106', '10', '157', '144', '91', '133', '145', '123',\n",
       "       '175', '128', '167', '84', '54', '126', '81', '176', '131', '149',\n",
       "       '24', '27', '118', '152', '141', '76', '70', '143', '78', '53',\n",
       "       '158', '2', '77', '117', '120', '9', '39', '80', '155', '179',\n",
       "       '37', '30', '44', '14', '55', '42', '1', '59', '69', '7', '109',\n",
       "       '26', '62', '18', '127', '33', '134', '146', '107', '166', '121',\n",
       "       '129', '48', '139', '25'], dtype=object)"
      ]
     },
     "execution_count": 196,
     "metadata": {},
     "output_type": "execute_result"
    }
   ],
   "source": [
    "test_clean2['city'].unique()"
   ]
  },
  {
   "cell_type": "code",
   "execution_count": 197,
   "metadata": {
    "id": "382CthgTg7wC"
   },
   "outputs": [],
   "source": [
    "test_clean2.city=test_clean2.city.astype(int)\n"
   ]
  },
  {
   "cell_type": "code",
   "execution_count": 198,
   "metadata": {
    "colab": {
     "base_uri": "https://localhost:8080/"
    },
    "id": "TmoF6Pwrg7wD",
    "outputId": "1bb0a0fc-d03f-46eb-c182-d7bea52a1e21"
   },
   "outputs": [
    {
     "name": "stdout",
     "output_type": "stream",
     "text": [
      "<class 'pandas.core.frame.DataFrame'>\n",
      "RangeIndex: 8877 entries, 0 to 8876\n",
      "Data columns (total 15 columns):\n",
      " #   Column                  Non-Null Count  Dtype  \n",
      "---  ------                  --------------  -----  \n",
      " 0   enrollee_id             8877 non-null   object \n",
      " 1   city_development_index  8877 non-null   float64\n",
      " 2   gender                  8877 non-null   object \n",
      " 3   relevent_experience     8877 non-null   object \n",
      " 4   enrolled_university     8877 non-null   object \n",
      " 5   education_level         8877 non-null   object \n",
      " 6   major_discipline        8877 non-null   object \n",
      " 7   experience              8877 non-null   int64  \n",
      " 8   company_type            8877 non-null   object \n",
      " 9   last_new_job            8877 non-null   int64  \n",
      " 10  training_hours          8877 non-null   int64  \n",
      " 11  target                  8877 non-null   int64  \n",
      " 12  company_size_from       8877 non-null   int64  \n",
      " 13  company_size_to         8877 non-null   int64  \n",
      " 14  city                    8877 non-null   int32  \n",
      "dtypes: float64(1), int32(1), int64(6), object(7)\n",
      "memory usage: 1005.7+ KB\n"
     ]
    }
   ],
   "source": [
    "test_clean2.info()"
   ]
  },
  {
   "cell_type": "code",
   "execution_count": 199,
   "metadata": {
    "colab": {
     "base_uri": "https://localhost:8080/"
    },
    "id": "Kj_1daPvg7wE",
    "outputId": "4ca7bad9-0d59-452c-d557-e982eee7ffaa"
   },
   "outputs": [
    {
     "data": {
      "text/plain": [
       "array(['private limited company', 'Funded Startup', 'Early Stage Startup',\n",
       "       'Public Sector', 'Non-Governmental Organisation', 'Other'],\n",
       "      dtype=object)"
      ]
     },
     "execution_count": 199,
     "metadata": {},
     "output_type": "execute_result"
    }
   ],
   "source": [
    "test_clean2['company_type'].unique()"
   ]
  },
  {
   "cell_type": "code",
   "execution_count": 200,
   "metadata": {
    "id": "aO1-kb61g7wE"
   },
   "outputs": [],
   "source": [
    "test_clean2.gender=test_clean2.gender.astype(int)\n",
    "test_clean2.relevent_experience=test_clean2.relevent_experience.astype(int)\n",
    "test_clean2.enrolled_university=test_clean2.enrolled_university.astype(float)\n",
    "\n"
   ]
  },
  {
   "cell_type": "code",
   "execution_count": 201,
   "metadata": {
    "colab": {
     "base_uri": "https://localhost:8080/"
    },
    "id": "djnlulZdg7wF",
    "outputId": "f6191244-05d8-49a4-e3d1-7e930298a581"
   },
   "outputs": [
    {
     "data": {
      "text/plain": [
       "array([0. , 0.5, 1. ])"
      ]
     },
     "execution_count": 201,
     "metadata": {},
     "output_type": "execute_result"
    }
   ],
   "source": [
    "test_clean2['enrolled_university'].unique()"
   ]
  },
  {
   "cell_type": "code",
   "execution_count": 202,
   "metadata": {
    "colab": {
     "base_uri": "https://localhost:8080/"
    },
    "id": "WReOJPetg7wF",
    "outputId": "950273e2-2840-4d23-c039-9cd25b91e09a"
   },
   "outputs": [
    {
     "name": "stdout",
     "output_type": "stream",
     "text": [
      "<class 'pandas.core.frame.DataFrame'>\n",
      "RangeIndex: 8877 entries, 0 to 8876\n",
      "Data columns (total 15 columns):\n",
      " #   Column                  Non-Null Count  Dtype  \n",
      "---  ------                  --------------  -----  \n",
      " 0   enrollee_id             8877 non-null   object \n",
      " 1   city_development_index  8877 non-null   float64\n",
      " 2   gender                  8877 non-null   int32  \n",
      " 3   relevent_experience     8877 non-null   int32  \n",
      " 4   enrolled_university     8877 non-null   float64\n",
      " 5   education_level         8877 non-null   object \n",
      " 6   major_discipline        8877 non-null   object \n",
      " 7   experience              8877 non-null   int64  \n",
      " 8   company_type            8877 non-null   object \n",
      " 9   last_new_job            8877 non-null   int64  \n",
      " 10  training_hours          8877 non-null   int64  \n",
      " 11  target                  8877 non-null   int64  \n",
      " 12  company_size_from       8877 non-null   int64  \n",
      " 13  company_size_to         8877 non-null   int64  \n",
      " 14  city                    8877 non-null   int32  \n",
      "dtypes: float64(2), int32(3), int64(6), object(4)\n",
      "memory usage: 936.4+ KB\n"
     ]
    }
   ],
   "source": [
    "test_clean2.info()"
   ]
  },
  {
   "cell_type": "markdown",
   "metadata": {
    "id": "bgvcYux-g7wG"
   },
   "source": [
    "Data preprocessing for classification"
   ]
  },
  {
   "cell_type": "code",
   "execution_count": 203,
   "metadata": {
    "id": "m7o0zR7hg7wH"
   },
   "outputs": [],
   "source": [
    "def edu_level(x):\n",
    "    if x=='Graduate'       :   return 0\n",
    "    if x=='Masters'        :   return 1 \n",
    "    if x=='High School'    :   return 2 \n",
    "    if x=='Phd'            :   return 3 \n",
    "    if x=='Primary School' :   return 4\n",
    "def major(x):\n",
    "    if x=='STEM'                   :   return 0\n",
    "    if x=='Business Degree'        :   return 1 \n",
    "    if x=='Arts'                   :   return 2 \n",
    "    if x=='Humanities'             :   return 3 \n",
    "    if x=='No Major'               :   return 4 \n",
    "    if x=='Other'                  :   return 5\n",
    "def company_t(x):\n",
    "    if x=='private limited company':return 0\n",
    "    if x=='Funded Startup'        :   return 1 \n",
    "    if x=='Early Stage Startup'   :   return 2 \n",
    "    if x=='Other'                 :   return 3 \n",
    "    if x=='Public Sector'         :   return 4 \n",
    "    if x=='Non-Governmental Organisation': return 5\n",
    "\n",
    "test_clean2['education_level'] = test_clean2['education_level'].apply(edu_level)\n",
    "test_clean2['major_discipline'] = test_clean2['major_discipline'].apply(major)\n",
    "test_clean2['company_type'] = test_clean2['company_type'].apply(company_t)\n",
    "\n"
   ]
  },
  {
   "cell_type": "code",
   "execution_count": 204,
   "metadata": {
    "colab": {
     "base_uri": "https://localhost:8080/"
    },
    "id": "5u6HurJMg7wH",
    "outputId": "6150be2f-3d41-427d-d664-4e390c713793"
   },
   "outputs": [
    {
     "name": "stdout",
     "output_type": "stream",
     "text": [
      "<class 'pandas.core.frame.DataFrame'>\n",
      "RangeIndex: 8877 entries, 0 to 8876\n",
      "Data columns (total 15 columns):\n",
      " #   Column                  Non-Null Count  Dtype  \n",
      "---  ------                  --------------  -----  \n",
      " 0   enrollee_id             8877 non-null   object \n",
      " 1   city_development_index  8877 non-null   float64\n",
      " 2   gender                  8877 non-null   int32  \n",
      " 3   relevent_experience     8877 non-null   int32  \n",
      " 4   enrolled_university     8877 non-null   float64\n",
      " 5   education_level         8877 non-null   int64  \n",
      " 6   major_discipline        8877 non-null   int64  \n",
      " 7   experience              8877 non-null   int64  \n",
      " 8   company_type            8877 non-null   int64  \n",
      " 9   last_new_job            8877 non-null   int64  \n",
      " 10  training_hours          8877 non-null   int64  \n",
      " 11  target                  8877 non-null   int64  \n",
      " 12  company_size_from       8877 non-null   int64  \n",
      " 13  company_size_to         8877 non-null   int64  \n",
      " 14  city                    8877 non-null   int32  \n",
      "dtypes: float64(2), int32(3), int64(9), object(1)\n",
      "memory usage: 936.4+ KB\n"
     ]
    }
   ],
   "source": [
    "test_clean2.info()"
   ]
  },
  {
   "cell_type": "markdown",
   "metadata": {
    "id": "gMkGrWsEg7wI"
   },
   "source": [
    "### Model classification\n"
   ]
  },
  {
   "cell_type": "code",
   "execution_count": 205,
   "metadata": {
    "colab": {
     "base_uri": "https://localhost:8080/"
    },
    "id": "g1dQYJp0g7wI",
    "outputId": "35c79cbf-629e-4f33-c03a-4343f45d3269"
   },
   "outputs": [
    {
     "data": {
      "text/plain": [
       "0.8207642881298614"
      ]
     },
     "execution_count": 205,
     "metadata": {},
     "output_type": "execute_result"
    }
   ],
   "source": [
    "\n",
    "from sklearn.neighbors import KNeighborsClassifier\n",
    "from sklearn.model_selection import train_test_split\n",
    "# split data\n",
    "X = test_clean2.drop(\"target\", axis=1)\n",
    "y = test_clean2[\"target\"]\n",
    "X_train, X_test, y_train, y_test = train_test_split(X,y, test_size = 0.333)\n",
    "model =  KNeighborsClassifier()\n",
    "model.fit(X_train, y_train);\n",
    "model.score(X_test, y_test)\n"
   ]
  },
  {
   "cell_type": "markdown",
   "metadata": {
    "id": "JHVcmfBPqG8K"
   },
   "source": [
    "visualization of score(y_pred)_the relation between true positive rate and false positive rate"
   ]
  },
  {
   "cell_type": "code",
   "execution_count": 206,
   "metadata": {
    "colab": {
     "base_uri": "https://localhost:8080/",
     "height": 298
    },
    "id": "t9f14GPr_t8n",
    "outputId": "17c45dd4-362b-4536-9648-9c76104f03fa"
   },
   "outputs": [
    {
     "data": {
      "image/png": "[encoded data removed]",
      "text/plain": [
       "<Figure size 432x288 with 1 Axes>"
      ]
     },
     "metadata": {
      "needs_background": "light"
     },
     "output_type": "display_data"
    }
   ],
   "source": [
    "import matplotlib.pyplot as plt\n",
    "from sklearn.ensemble import RandomForestClassifier\n",
    "from sklearn.metrics  import plot_roc_curve\n",
    "from sklearn.svm import SVC\n",
    "\n",
    "rfc = RandomForestClassifier(random_state=1)\n",
    "rfc.fit(X_train, y_train)\n",
    "\n",
    "ax = plt.gca()\n",
    "rfc_disp = plot_roc_curve(rfc, X_test, y_test, ax=ax, alpha=0.8)\n",
    "#svc_disp.plot(ax=ax, alpha=0.8)\n",
    "\n",
    "plt.show()\n"
   ]
  },
  {
   "cell_type": "code",
   "execution_count": 207,
   "metadata": {
    "id": "dHKMotmRgrgw"
   },
   "outputs": [],
   "source": [
    "y_pred = model.predict(X_test)"
   ]
  },
  {
   "cell_type": "code",
   "execution_count": 208,
   "metadata": {
    "colab": {
     "base_uri": "https://localhost:8080/",
     "height": 342
    },
    "id": "4tHmIeuEjkh1",
    "outputId": "5c6f80a1-2275-42e7-e477-52b9e48359aa"
   },
   "outputs": [
    {
     "data": {
      "text/plain": [
       "<matplotlib.axes._subplots.AxesSubplot at 0x18140434340>"
      ]
     },
     "execution_count": 208,
     "metadata": {},
     "output_type": "execute_result"
    },
    {
     "data": {
      "image/png": "[encoded data removed]",
      "text/plain": [
       "<Figure size 432x288 with 1 Axes>"
      ]
     },
     "metadata": {
      "needs_background": "light"
     },
     "output_type": "display_data"
    }
   ],
   "source": [
    "sns.countplot(y_pred)"
   ]
  }
 ],
 "metadata": {
  "colab": {
   "collapsed_sections": [
    "7AgZzpGjg7tj",
    "KMeVlCg0g7uc",
    "n2qVYQahg7ug",
    "1nqoQVXOg7ui",
    "-t7bqCKVg7us",
    "NCyUVUomg7uw",
    "DklG0uyig7uy",
    "tauqx4DTg7vK",
    "8RHk7eyPg7vP",
    "k-Z71JeVg7vW",
    "Lox_1RGcg7vY",
    "-VyTWawig7va",
    "dwN0qINag7vh",
    "wddL28iCg7vk",
    "zM3Ki3MVg7vl",
    "YShQG1MSg7vm",
    "kGjM5fvRg7vn",
    "F4FBs2yxg7vp",
    "Thim3ZqLg7vq",
    "c_YdvSYxg7vs"
   ],
   "name": "project code.ipynb",
   "provenance": []
  },
  "kernelspec": {
   "display_name": "Python 3",
   "language": "python",
   "name": "python3"
  },
  "language_info": {
   "codemirror_mode": {
    "name": "ipython",
    "version": 3
   },
   "file_extension": ".py",
   "mimetype": "text/x-python",
   "name": "python",
   "nbconvert_exporter": "python",
   "pygments_lexer": "ipython3",
   "version": "3.8.3"
  }
 },
 "nbformat": 4,
 "nbformat_minor": 1
}
